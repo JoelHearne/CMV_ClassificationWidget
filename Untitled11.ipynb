{
  "cells": [
    {
      "cell_type": "markdown",
      "metadata": {
        "id": "view-in-github",
        "colab_type": "text"
      },
      "source": [
        "<a href=\"https://colab.research.google.com/github/JoelHearne/CMV_ClassificationWidget/blob/master/Untitled11.ipynb\" target=\"_parent\"><img src=\"https://colab.research.google.com/assets/colab-badge.svg\" alt=\"Open In Colab\"/></a>"
      ]
    },
    {
      "cell_type": "code",
      "execution_count": null,
      "metadata": {
        "colab": {
          "base_uri": "https://localhost:8080/",
          "height": 231
        },
        "id": "hgjX-c-YVXdl",
        "outputId": "73636b6d-f219-45f2-9768-cb44764a9989"
      },
      "outputs": [
        {
          "output_type": "stream",
          "name": "stdout",
          "text": [
            "Drive already mounted at /content/drive; to attempt to forcibly remount, call drive.mount(\"/content/drive\", force_remount=True).\n"
          ]
        },
        {
          "output_type": "display_data",
          "data": {
            "text/plain": [
              "<IPython.core.display.HTML object>"
            ],
            "text/html": [
              "\n",
              "                        <div style='margin-bottom:20px; font-size:14px;'>\n",
              "                          <b>Match:</b> <code>notatall</code><br>\n",
              "                          <b>Line:</b> 752<br>\n",
              "                          <b>File:</b> <a href=\"https://drive.google.com/drive/u/0/search?q=nexfiljob.txt\" target=\"_blank\">huntPastebin/arch/nexfiljob.txt</a><br>\n",
              "                          <div style='background:green;padding:10px;border-radius:4px;margin-top:5px;'>\u001b[32m[+] \u001b[36m\u001b[36mTarget : \u001b[0m<mark>notatall</mark>\u001b[0m</div>\n",
              "                        </div>\n",
              "                        "
            ]
          },
          "metadata": {}
        },
        {
          "output_type": "display_data",
          "data": {
            "text/plain": [
              "<IPython.core.display.HTML object>"
            ],
            "text/html": [
              "<h3 style='margin-top:40px;'>1 match(es), 0 file(s) deleted</h3>"
            ]
          },
          "metadata": {}
        },
        {
          "output_type": "stream",
          "name": "stdout",
          "text": [
            "Log saved to: /content/drive/MyDrive/search_results_20250517_185836.txt\n"
          ]
        }
      ],
      "source": [
        "from google.colab import drive\n",
        "from IPython.display import display, HTML\n",
        "import os\n",
        "import re\n",
        "from datetime import datetime\n",
        "\n",
        "# === Step 1: Mount Drive and Set Config ===\n",
        "drive.mount('/content/drive')\n",
        "\n",
        "root_dir = '/content/drive/MyDrive/huntPastebin/arch'\n",
        "search_terms = ['pilgrim4','kllack','wrackr','notatall','really_not','kelley lac','sillyran','MoveAway','klacko','mobile, al','daphne, al','theodore, al','fort walton beach','orange beach, al',\"1855 wildwood\"]\n",
        "delete_terms = ['karen watson', 'murder','DOCTYPE','function{','kelleybluebook']\n",
        "valid_extensions = {'.txt', '.csv', '.log', '.py', '.json', '.html', '.xml', '.md'}\n",
        "\n",
        "# Log file for matches\n",
        "timestamp = datetime.now().strftime('%Y%m%d_%H%M%S')\n",
        "log_path = f'/content/drive/MyDrive/search_results_{timestamp}.txt'\n",
        "\n",
        "match_count = 0\n",
        "deleted_count = 0\n",
        "\n",
        "# === Step 2: Helpers ===\n",
        "def highlight_term(text, keyword):\n",
        "    # Highlight keyword in yellow, case-insensitive\n",
        "    return re.sub(f\"({re.escape(keyword)})\", r\"<mark>\\1</mark>\", text, flags=re.IGNORECASE)\n",
        "\n",
        "def get_snippet(text, keyword, window=20):\n",
        "    # Return ~20-word snippet around keyword\n",
        "    words = text.split()\n",
        "    for i, word in enumerate(words):\n",
        "        if re.search(re.escape(keyword), word, re.IGNORECASE):\n",
        "            start = max(0, i - window // 2)\n",
        "            end = min(len(words), i + window // 2 + 1)\n",
        "            snippet = ' '.join(words[start:end])\n",
        "            return highlight_term(snippet, keyword)\n",
        "    return text\n",
        "\n",
        "def contains_substring(text, terms):\n",
        "    return any(term.lower() in text.lower() for term in terms)\n",
        "\n",
        "# === Step 3: Search Function ===\n",
        "def search_file(filepath):\n",
        "    global match_count, deleted_count\n",
        "\n",
        "    try:\n",
        "        with open(filepath, 'r', errors='ignore') as f:\n",
        "            lines = f.readlines()\n",
        "            full_text = ''.join(lines)\n",
        "\n",
        "            # Deletion logic\n",
        "            if contains_substring(full_text, delete_terms):\n",
        "                os.remove(filepath)\n",
        "                deleted_count += 1\n",
        "                rel_path = filepath.split('/MyDrive/', 1)[-1]\n",
        "                display(HTML(f\"<p style='color:red;'><b>DELETED:</b> {rel_path}</p>\"))\n",
        "                return\n",
        "\n",
        "            # Search logic\n",
        "            for i, line in enumerate(lines):\n",
        "                for term in search_terms:\n",
        "                    if term.lower() in line.lower():\n",
        "                        match_count += 1\n",
        "\n",
        "                        # Get short snippet with highlight\n",
        "                        snippet = get_snippet(line.strip()[0:50], term)\n",
        "                        rel_path = filepath.split('/MyDrive/', 1)[-1]\n",
        "                        drive_link = f\"https://drive.google.com/drive/u/0/search?q={os.path.basename(filepath)}\"\n",
        "\n",
        "                        display(HTML(f\"\"\"\n",
        "                        <div style='margin-bottom:20px; font-size:14px;'>\n",
        "                          <b>Match:</b> <code>{term}</code><br>\n",
        "                          <b>Line:</b> {i + 1}<br>\n",
        "                          <b>File:</b> <a href=\"{drive_link}\" target=\"_blank\">{rel_path}</a><br>\n",
        "                          <div style='background:green;padding:10px;border-radius:4px;margin-top:5px;'>{snippet}</div>\n",
        "                        </div>\n",
        "                        \"\"\"))\n",
        "\n",
        "                        with open(log_path, 'a') as log:\n",
        "                            log.write(f\"{filepath} (Line {i+1})\\n{line.strip()}\\n{'-' * 40}\\n\\n\")\n",
        "\n",
        "                        return  # Only one match per file\n",
        "    except Exception as e:\n",
        "        print(f\"Error reading {filepath}: {e}\")\n",
        "\n",
        "# === Step 4: Walk and Search ===\n",
        "for dirpath, _, files in os.walk(root_dir):\n",
        "    for file in files:\n",
        "        if os.path.splitext(file)[1].lower() in valid_extensions:\n",
        "            search_file(os.path.join(dirpath, file))\n",
        "\n",
        "# === Final Summary ===\n",
        "display(HTML(f\"<h3 style='margin-top:40px;'>{match_count} match(es), {deleted_count} file(s) deleted</h3>\"))\n",
        "print(f\"Log saved to: {log_path}\")"
      ]
    },
    {
      "cell_type": "code",
      "execution_count": null,
      "metadata": {
        "colab": {
          "base_uri": "https://localhost:8080/"
        },
        "id": "FaCervRVZsui",
        "outputId": "9697963a-7485-4945-9e53-c1d07e8125e6"
      },
      "outputs": [
        {
          "output_type": "stream",
          "name": "stdout",
          "text": [
            "Requirement already satisfied: openpyxl in /usr/local/lib/python3.11/dist-packages (3.1.5)\n",
            "Requirement already satisfied: PyMuPDF in /usr/local/lib/python3.11/dist-packages (1.25.5)\n",
            "Requirement already satisfied: et-xmlfile in /usr/local/lib/python3.11/dist-packages (from openpyxl) (2.0.0)\n"
          ]
        }
      ],
      "source": [
        "!pip install openpyxl PyMuPDF"
      ]
    },
    {
      "cell_type": "code",
      "execution_count": null,
      "metadata": {
        "colab": {
          "base_uri": "https://localhost:8080/",
          "height": 1000
        },
        "id": "pC3PHx9s54la",
        "outputId": "f160030f-d235-4d8f-ddcf-b469c904cea2"
      },
      "outputs": [
        {
          "output_type": "stream",
          "name": "stdout",
          "text": [
            "Drive already mounted at /content/drive; to attempt to forcibly remount, call drive.mount(\"/content/drive\", force_remount=True).\n",
            "scanning Safari - May 17, 2025 at 11:55 AM.pdf\n",
            "83.142.103.52\n",
            "82.67.172.174\n",
            "82.67.172.174\n",
            "45.48.74.120\n",
            "89.245.123.217\n",
            "189.111.99.207\n",
            "217.21.147.147\n",
            "80.90.61.2\n",
            "2.150.32.129\n",
            "31.21.15.40\n",
            "scanning Safari - May 17, 2025 at 11:57 AM.pdf\n",
            "scanning Safari - May 17, 2025 at 1:44 PM.pdf\n"
          ]
        },
        {
          "output_type": "display_data",
          "data": {
            "text/plain": [
              "<IPython.core.display.HTML object>"
            ],
            "text/html": [
              "\n",
              "    <div style='margin-bottom:20px; font-size:14px;'>\n",
              "      <b>File:</b> <a href=\"https://drive.google.com/drive/u/0/search?q=Safari - May 17, 2025 at 1:44 PM.pdf\" target=\"_blank\">huntPastebin/general/Safari - May 17, 2025 at 1:44 PM.pdf</a><br>\n",
              "      <div style='background:#f4f4f4;padding:10px;border-radius:4px;margin-top:5px;color:black;'><b>username</b>: name<br><b>password</b>: word</div>\n",
              "    </div>\n",
              "    "
            ]
          },
          "metadata": {}
        },
        {
          "output_type": "display_data",
          "data": {
            "text/plain": [
              "<IPython.core.display.HTML object>"
            ],
            "text/html": [
              "\n",
              "    <div style='margin-bottom:20px; font-size:14px;'>\n",
              "      <b>File:</b> <a href=\"https://drive.google.com/drive/u/0/search?q=Safari - May 17, 2025 at 1:44 PM.pdf\" target=\"_blank\">huntPastebin/general/Safari - May 17, 2025 at 1:44 PM.pdf</a><br>\n",
              "      <div style='background:#f4f4f4;padding:10px;border-radius:4px;margin-top:5px;color:black;'><b>username</b>: name:Password<br><b>password</b>: word</div>\n",
              "    </div>\n",
              "    "
            ]
          },
          "metadata": {}
        },
        {
          "output_type": "display_data",
          "data": {
            "text/plain": [
              "<IPython.core.display.HTML object>"
            ],
            "text/html": [
              "\n",
              "    <div style='margin-bottom:20px; font-size:14px;'>\n",
              "      <b>File:</b> <a href=\"https://drive.google.com/drive/u/0/search?q=Safari - May 17, 2025 at 1:44 PM.pdf\" target=\"_blank\">huntPastebin/general/Safari - May 17, 2025 at 1:44 PM.pdf</a><br>\n",
              "      <div style='background:#f4f4f4;padding:10px;border-radius:4px;margin-top:5px;color:black;'><b>username</b>: name:Password<br><b>password</b>: word</div>\n",
              "    </div>\n",
              "    "
            ]
          },
          "metadata": {}
        },
        {
          "output_type": "display_data",
          "data": {
            "text/plain": [
              "<IPython.core.display.HTML object>"
            ],
            "text/html": [
              "\n",
              "    <div style='margin-bottom:20px; font-size:14px;'>\n",
              "      <b>File:</b> <a href=\"https://drive.google.com/drive/u/0/search?q=Safari - May 17, 2025 at 1:44 PM.pdf\" target=\"_blank\">huntPastebin/general/Safari - May 17, 2025 at 1:44 PM.pdf</a><br>\n",
              "      <div style='background:#f4f4f4;padding:10px;border-radius:4px;margin-top:5px;color:black;'><b>email</b>: haupt.sam@gmail.com<br><b>username</b>: name</div>\n",
              "    </div>\n",
              "    "
            ]
          },
          "metadata": {}
        },
        {
          "output_type": "display_data",
          "data": {
            "text/plain": [
              "<IPython.core.display.HTML object>"
            ],
            "text/html": [
              "\n",
              "    <div style='margin-bottom:20px; font-size:14px;'>\n",
              "      <b>File:</b> <a href=\"https://drive.google.com/drive/u/0/search?q=Safari - May 17, 2025 at 1:44 PM.pdf\" target=\"_blank\">huntPastebin/general/Safari - May 17, 2025 at 1:44 PM.pdf</a><br>\n",
              "      <div style='background:#f4f4f4;padding:10px;border-radius:4px;margin-top:5px;color:black;'><b>email</b>: haupt.sam@gmail.com<br><b>username</b>: name</div>\n",
              "    </div>\n",
              "    "
            ]
          },
          "metadata": {}
        },
        {
          "output_type": "display_data",
          "data": {
            "text/plain": [
              "<IPython.core.display.HTML object>"
            ],
            "text/html": [
              "\n",
              "    <div style='margin-bottom:20px; font-size:14px;'>\n",
              "      <b>File:</b> <a href=\"https://drive.google.com/drive/u/0/search?q=Safari - May 17, 2025 at 1:44 PM.pdf\" target=\"_blank\">huntPastebin/general/Safari - May 17, 2025 at 1:44 PM.pdf</a><br>\n",
              "      <div style='background:#f4f4f4;padding:10px;border-radius:4px;margin-top:5px;color:black;'><b>email</b>: gamerjosh263@gmail.com<br><b>username</b>: name</div>\n",
              "    </div>\n",
              "    "
            ]
          },
          "metadata": {}
        },
        {
          "output_type": "display_data",
          "data": {
            "text/plain": [
              "<IPython.core.display.HTML object>"
            ],
            "text/html": [
              "\n",
              "    <div style='margin-bottom:20px; font-size:14px;'>\n",
              "      <b>File:</b> <a href=\"https://drive.google.com/drive/u/0/search?q=Safari - May 17, 2025 at 1:44 PM.pdf\" target=\"_blank\">huntPastebin/general/Safari - May 17, 2025 at 1:44 PM.pdf</a><br>\n",
              "      <div style='background:#f4f4f4;padding:10px;border-radius:4px;margin-top:5px;color:black;'><b>email</b>: gamerjosh263@gmail.com<br><b>username</b>: name</div>\n",
              "    </div>\n",
              "    "
            ]
          },
          "metadata": {}
        },
        {
          "output_type": "display_data",
          "data": {
            "text/plain": [
              "<IPython.core.display.HTML object>"
            ],
            "text/html": [
              "\n",
              "    <div style='margin-bottom:20px; font-size:14px;'>\n",
              "      <b>File:</b> <a href=\"https://drive.google.com/drive/u/0/search?q=Safari - May 17, 2025 at 1:44 PM.pdf\" target=\"_blank\">huntPastebin/general/Safari - May 17, 2025 at 1:44 PM.pdf</a><br>\n",
              "      <div style='background:#f4f4f4;padding:10px;border-radius:4px;margin-top:5px;color:black;'><b>email</b>: madlytommy2222@gmail.co<br><b>username</b>: name</div>\n",
              "    </div>\n",
              "    "
            ]
          },
          "metadata": {}
        },
        {
          "output_type": "display_data",
          "data": {
            "text/plain": [
              "<IPython.core.display.HTML object>"
            ],
            "text/html": [
              "\n",
              "    <div style='margin-bottom:20px; font-size:14px;'>\n",
              "      <b>File:</b> <a href=\"https://drive.google.com/drive/u/0/search?q=Safari - May 17, 2025 at 1:44 PM.pdf\" target=\"_blank\">huntPastebin/general/Safari - May 17, 2025 at 1:44 PM.pdf</a><br>\n",
              "      <div style='background:#f4f4f4;padding:10px;border-radius:4px;margin-top:5px;color:black;'><b>email</b>: madlytommy2222@gmail.co<br><b>username</b>: name</div>\n",
              "    </div>\n",
              "    "
            ]
          },
          "metadata": {}
        },
        {
          "output_type": "display_data",
          "data": {
            "text/plain": [
              "<IPython.core.display.HTML object>"
            ],
            "text/html": [
              "\n",
              "    <div style='margin-bottom:20px; font-size:14px;'>\n",
              "      <b>File:</b> <a href=\"https://drive.google.com/drive/u/0/search?q=Safari - May 17, 2025 at 1:44 PM.pdf\" target=\"_blank\">huntPastebin/general/Safari - May 17, 2025 at 1:44 PM.pdf</a><br>\n",
              "      <div style='background:#f4f4f4;padding:10px;border-radius:4px;margin-top:5px;color:black;'><b>email</b>: odd.ingar.vedal@live.no<br><b>username</b>: name</div>\n",
              "    </div>\n",
              "    "
            ]
          },
          "metadata": {}
        },
        {
          "output_type": "display_data",
          "data": {
            "text/plain": [
              "<IPython.core.display.HTML object>"
            ],
            "text/html": [
              "\n",
              "    <div style='margin-bottom:20px; font-size:14px;'>\n",
              "      <b>File:</b> <a href=\"https://drive.google.com/drive/u/0/search?q=Safari - May 17, 2025 at 1:44 PM.pdf\" target=\"_blank\">huntPastebin/general/Safari - May 17, 2025 at 1:44 PM.pdf</a><br>\n",
              "      <div style='background:#f4f4f4;padding:10px;border-radius:4px;margin-top:5px;color:black;'><b>email</b>: odd.ingar.vedal@live.no<br><b>username</b>: name<br><b>password</b>: word</div>\n",
              "    </div>\n",
              "    "
            ]
          },
          "metadata": {}
        },
        {
          "output_type": "display_data",
          "data": {
            "text/plain": [
              "<IPython.core.display.HTML object>"
            ],
            "text/html": [
              "\n",
              "    <div style='margin-bottom:20px; font-size:14px;'>\n",
              "      <b>File:</b> <a href=\"https://drive.google.com/drive/u/0/search?q=Safari - May 17, 2025 at 1:44 PM.pdf\" target=\"_blank\">huntPastebin/general/Safari - May 17, 2025 at 1:44 PM.pdf</a><br>\n",
              "      <div style='background:#f4f4f4;padding:10px;border-radius:4px;margin-top:5px;color:black;'><b>email</b>: odd.ingar.vedal@live.no<br><b>password</b>: word</div>\n",
              "    </div>\n",
              "    "
            ]
          },
          "metadata": {}
        },
        {
          "output_type": "stream",
          "name": "stdout",
          "text": [
            "195.0.250.202\n"
          ]
        },
        {
          "output_type": "display_data",
          "data": {
            "text/plain": [
              "<IPython.core.display.HTML object>"
            ],
            "text/html": [
              "\n",
              "    <div style='margin-bottom:20px; font-size:14px;'>\n",
              "      <b>File:</b> <a href=\"https://drive.google.com/drive/u/0/search?q=Safari - May 17, 2025 at 1:44 PM.pdf\" target=\"_blank\">huntPastebin/general/Safari - May 17, 2025 at 1:44 PM.pdf</a><br>\n",
              "      <div style='background:#f4f4f4;padding:10px;border-radius:4px;margin-top:5px;color:black;'><b>email</b>: hheilweil@comcast.net<br><b>username</b>: name</div>\n",
              "    </div>\n",
              "    "
            ]
          },
          "metadata": {}
        },
        {
          "output_type": "display_data",
          "data": {
            "text/plain": [
              "<IPython.core.display.HTML object>"
            ],
            "text/html": [
              "\n",
              "    <div style='margin-bottom:20px; font-size:14px;'>\n",
              "      <b>File:</b> <a href=\"https://drive.google.com/drive/u/0/search?q=Safari - May 17, 2025 at 1:44 PM.pdf\" target=\"_blank\">huntPastebin/general/Safari - May 17, 2025 at 1:44 PM.pdf</a><br>\n",
              "      <div style='background:#f4f4f4;padding:10px;border-radius:4px;margin-top:5px;color:black;'><b>email</b>: hheilweil@comcast.net<br><b>username</b>: name<br><b>password</b>: word</div>\n",
              "    </div>\n",
              "    "
            ]
          },
          "metadata": {}
        },
        {
          "output_type": "display_data",
          "data": {
            "text/plain": [
              "<IPython.core.display.HTML object>"
            ],
            "text/html": [
              "\n",
              "    <div style='margin-bottom:20px; font-size:14px;'>\n",
              "      <b>File:</b> <a href=\"https://drive.google.com/drive/u/0/search?q=Safari - May 17, 2025 at 1:44 PM.pdf\" target=\"_blank\">huntPastebin/general/Safari - May 17, 2025 at 1:44 PM.pdf</a><br>\n",
              "      <div style='background:#f4f4f4;padding:10px;border-radius:4px;margin-top:5px;color:black;'><b>email</b>: hheilweil@comcast.net<br><b>password</b>: word</div>\n",
              "    </div>\n",
              "    "
            ]
          },
          "metadata": {}
        },
        {
          "output_type": "display_data",
          "data": {
            "text/plain": [
              "<IPython.core.display.HTML object>"
            ],
            "text/html": [
              "\n",
              "    <div style='margin-bottom:20px; font-size:14px;'>\n",
              "      <b>File:</b> <a href=\"https://drive.google.com/drive/u/0/search?q=Safari - May 17, 2025 at 1:44 PM.pdf\" target=\"_blank\">huntPastebin/general/Safari - May 17, 2025 at 1:44 PM.pdf</a><br>\n",
              "      <div style='background:#f4f4f4;padding:10px;border-radius:4px;margin-top:5px;color:black;'><b>email</b>: princesstember@yahoo.co<br><b>username</b>: name</div>\n",
              "    </div>\n",
              "    "
            ]
          },
          "metadata": {}
        },
        {
          "output_type": "display_data",
          "data": {
            "text/plain": [
              "<IPython.core.display.HTML object>"
            ],
            "text/html": [
              "\n",
              "    <div style='margin-bottom:20px; font-size:14px;'>\n",
              "      <b>File:</b> <a href=\"https://drive.google.com/drive/u/0/search?q=Safari - May 17, 2025 at 1:44 PM.pdf\" target=\"_blank\">huntPastebin/general/Safari - May 17, 2025 at 1:44 PM.pdf</a><br>\n",
              "      <div style='background:#f4f4f4;padding:10px;border-radius:4px;margin-top:5px;color:black;'><b>email</b>: princesstember@yahoo.co<br><b>username</b>: name</div>\n",
              "    </div>\n",
              "    "
            ]
          },
          "metadata": {}
        },
        {
          "output_type": "display_data",
          "data": {
            "text/plain": [
              "<IPython.core.display.HTML object>"
            ],
            "text/html": [
              "\n",
              "    <div style='margin-bottom:20px; font-size:14px;'>\n",
              "      <b>File:</b> <a href=\"https://drive.google.com/drive/u/0/search?q=Safari - May 17, 2025 at 1:44 PM.pdf\" target=\"_blank\">huntPastebin/general/Safari - May 17, 2025 at 1:44 PM.pdf</a><br>\n",
              "      <div style='background:#f4f4f4;padding:10px;border-radius:4px;margin-top:5px;color:black;'><b>email</b>: princesstember@yahoo.co<br><b>password</b>: word</div>\n",
              "    </div>\n",
              "    "
            ]
          },
          "metadata": {}
        },
        {
          "output_type": "display_data",
          "data": {
            "text/plain": [
              "<IPython.core.display.HTML object>"
            ],
            "text/html": [
              "\n",
              "    <div style='margin-bottom:20px; font-size:14px;'>\n",
              "      <b>File:</b> <a href=\"https://drive.google.com/drive/u/0/search?q=Safari - May 17, 2025 at 1:44 PM.pdf\" target=\"_blank\">huntPastebin/general/Safari - May 17, 2025 at 1:44 PM.pdf</a><br>\n",
              "      <div style='background:#f4f4f4;padding:10px;border-radius:4px;margin-top:5px;color:black;'><b>email</b>: zorra.manglera@gmail.co<br><b>username</b>: name</div>\n",
              "    </div>\n",
              "    "
            ]
          },
          "metadata": {}
        },
        {
          "output_type": "display_data",
          "data": {
            "text/plain": [
              "<IPython.core.display.HTML object>"
            ],
            "text/html": [
              "\n",
              "    <div style='margin-bottom:20px; font-size:14px;'>\n",
              "      <b>File:</b> <a href=\"https://drive.google.com/drive/u/0/search?q=Safari - May 17, 2025 at 1:44 PM.pdf\" target=\"_blank\">huntPastebin/general/Safari - May 17, 2025 at 1:44 PM.pdf</a><br>\n",
              "      <div style='background:#f4f4f4;padding:10px;border-radius:4px;margin-top:5px;color:black;'><b>email</b>: zorra.manglera@gmail.co<br><b>username</b>: name</div>\n",
              "    </div>\n",
              "    "
            ]
          },
          "metadata": {}
        },
        {
          "output_type": "display_data",
          "data": {
            "text/plain": [
              "<IPython.core.display.HTML object>"
            ],
            "text/html": [
              "\n",
              "    <div style='margin-bottom:20px; font-size:14px;'>\n",
              "      <b>File:</b> <a href=\"https://drive.google.com/drive/u/0/search?q=Safari - May 17, 2025 at 1:44 PM.pdf\" target=\"_blank\">huntPastebin/general/Safari - May 17, 2025 at 1:44 PM.pdf</a><br>\n",
              "      <div style='background:#f4f4f4;padding:10px;border-radius:4px;margin-top:5px;color:black;'><b>email</b>: zorra.manglera@gmail.co<br><b>password</b>: word</div>\n",
              "    </div>\n",
              "    "
            ]
          },
          "metadata": {}
        },
        {
          "output_type": "display_data",
          "data": {
            "text/plain": [
              "<IPython.core.display.HTML object>"
            ],
            "text/html": [
              "\n",
              "    <div style='margin-bottom:20px; font-size:14px;'>\n",
              "      <b>File:</b> <a href=\"https://drive.google.com/drive/u/0/search?q=Safari - May 17, 2025 at 1:44 PM.pdf\" target=\"_blank\">huntPastebin/general/Safari - May 17, 2025 at 1:44 PM.pdf</a><br>\n",
              "      <div style='background:#f4f4f4;padding:10px;border-radius:4px;margin-top:5px;color:black;'><b>email</b>: notadude@yahoo.com<br><b>username</b>: name</div>\n",
              "    </div>\n",
              "    "
            ]
          },
          "metadata": {}
        },
        {
          "output_type": "display_data",
          "data": {
            "text/plain": [
              "<IPython.core.display.HTML object>"
            ],
            "text/html": [
              "\n",
              "    <div style='margin-bottom:20px; font-size:14px;'>\n",
              "      <b>File:</b> <a href=\"https://drive.google.com/drive/u/0/search?q=Safari - May 17, 2025 at 1:44 PM.pdf\" target=\"_blank\">huntPastebin/general/Safari - May 17, 2025 at 1:44 PM.pdf</a><br>\n",
              "      <div style='background:#f4f4f4;padding:10px;border-radius:4px;margin-top:5px;color:black;'><b>email</b>: notadude@yahoo.com<br><b>username</b>: name</div>\n",
              "    </div>\n",
              "    "
            ]
          },
          "metadata": {}
        },
        {
          "output_type": "stream",
          "name": "stdout",
          "text": [
            "70.176.108.227\n"
          ]
        },
        {
          "output_type": "display_data",
          "data": {
            "text/plain": [
              "<IPython.core.display.HTML object>"
            ],
            "text/html": [
              "\n",
              "    <div style='margin-bottom:20px; font-size:14px;'>\n",
              "      <b>File:</b> <a href=\"https://drive.google.com/drive/u/0/search?q=Safari - May 17, 2025 at 1:44 PM.pdf\" target=\"_blank\">huntPastebin/general/Safari - May 17, 2025 at 1:44 PM.pdf</a><br>\n",
              "      <div style='background:#f4f4f4;padding:10px;border-radius:4px;margin-top:5px;color:black;'><b>email</b>: a00823190@itesm.mx<br><b>username</b>: name</div>\n",
              "    </div>\n",
              "    "
            ]
          },
          "metadata": {}
        },
        {
          "output_type": "display_data",
          "data": {
            "text/plain": [
              "<IPython.core.display.HTML object>"
            ],
            "text/html": [
              "\n",
              "    <div style='margin-bottom:20px; font-size:14px;'>\n",
              "      <b>File:</b> <a href=\"https://drive.google.com/drive/u/0/search?q=Safari - May 17, 2025 at 1:44 PM.pdf\" target=\"_blank\">huntPastebin/general/Safari - May 17, 2025 at 1:44 PM.pdf</a><br>\n",
              "      <div style='background:#f4f4f4;padding:10px;border-radius:4px;margin-top:5px;color:black;'><b>email</b>: a00823190@itesm.mx<br><b>username</b>: name</div>\n",
              "    </div>\n",
              "    "
            ]
          },
          "metadata": {}
        },
        {
          "output_type": "display_data",
          "data": {
            "text/plain": [
              "<IPython.core.display.HTML object>"
            ],
            "text/html": [
              "\n",
              "    <div style='margin-bottom:20px; font-size:14px;'>\n",
              "      <b>File:</b> <a href=\"https://drive.google.com/drive/u/0/search?q=Safari - May 17, 2025 at 1:44 PM.pdf\" target=\"_blank\">huntPastebin/general/Safari - May 17, 2025 at 1:44 PM.pdf</a><br>\n",
              "      <div style='background:#f4f4f4;padding:10px;border-radius:4px;margin-top:5px;color:black;'><b>email</b>: wbranom@yahoo.com<br><b>username</b>: name</div>\n",
              "    </div>\n",
              "    "
            ]
          },
          "metadata": {}
        },
        {
          "output_type": "display_data",
          "data": {
            "text/plain": [
              "<IPython.core.display.HTML object>"
            ],
            "text/html": [
              "\n",
              "    <div style='margin-bottom:20px; font-size:14px;'>\n",
              "      <b>File:</b> <a href=\"https://drive.google.com/drive/u/0/search?q=Safari - May 17, 2025 at 1:44 PM.pdf\" target=\"_blank\">huntPastebin/general/Safari - May 17, 2025 at 1:44 PM.pdf</a><br>\n",
              "      <div style='background:#f4f4f4;padding:10px;border-radius:4px;margin-top:5px;color:black;'><b>email</b>: wbranom@yahoo.com<br><b>username</b>: name<br><b>password</b>: word</div>\n",
              "    </div>\n",
              "    "
            ]
          },
          "metadata": {}
        },
        {
          "output_type": "display_data",
          "data": {
            "text/plain": [
              "<IPython.core.display.HTML object>"
            ],
            "text/html": [
              "\n",
              "    <div style='margin-bottom:20px; font-size:14px;'>\n",
              "      <b>File:</b> <a href=\"https://drive.google.com/drive/u/0/search?q=Safari - May 17, 2025 at 1:44 PM.pdf\" target=\"_blank\">huntPastebin/general/Safari - May 17, 2025 at 1:44 PM.pdf</a><br>\n",
              "      <div style='background:#f4f4f4;padding:10px;border-radius:4px;margin-top:5px;color:black;'><b>email</b>: wbranom@yahoo.com<br><b>password</b>: word</div>\n",
              "    </div>\n",
              "    "
            ]
          },
          "metadata": {}
        },
        {
          "output_type": "display_data",
          "data": {
            "text/plain": [
              "<IPython.core.display.HTML object>"
            ],
            "text/html": [
              "\n",
              "    <div style='margin-bottom:20px; font-size:14px;'>\n",
              "      <b>File:</b> <a href=\"https://drive.google.com/drive/u/0/search?q=Safari - May 17, 2025 at 1:44 PM.pdf\" target=\"_blank\">huntPastebin/general/Safari - May 17, 2025 at 1:44 PM.pdf</a><br>\n",
              "      <div style='background:#f4f4f4;padding:10px;border-radius:4px;margin-top:5px;color:black;'><b>email</b>: e.e.n@gmail.com<br><b>username</b>: name</div>\n",
              "    </div>\n",
              "    "
            ]
          },
          "metadata": {}
        },
        {
          "output_type": "stream",
          "name": "stdout",
          "text": [
            "142.162.74.154\n",
            "142.162.74.154\n"
          ]
        },
        {
          "output_type": "display_data",
          "data": {
            "text/plain": [
              "<IPython.core.display.HTML object>"
            ],
            "text/html": [
              "\n",
              "    <div style='margin-bottom:20px; font-size:14px;'>\n",
              "      <b>File:</b> <a href=\"https://drive.google.com/drive/u/0/search?q=Safari - May 17, 2025 at 1:44 PM.pdf\" target=\"_blank\">huntPastebin/general/Safari - May 17, 2025 at 1:44 PM.pdf</a><br>\n",
              "      <div style='background:#f4f4f4;padding:10px;border-radius:4px;margin-top:5px;color:black;'><b>email</b>: Lolly@yahoo.com.sg<br><b>username</b>: name</div>\n",
              "    </div>\n",
              "    "
            ]
          },
          "metadata": {}
        },
        {
          "output_type": "display_data",
          "data": {
            "text/plain": [
              "<IPython.core.display.HTML object>"
            ],
            "text/html": [
              "\n",
              "    <div style='margin-bottom:20px; font-size:14px;'>\n",
              "      <b>File:</b> <a href=\"https://drive.google.com/drive/u/0/search?q=Safari - May 17, 2025 at 1:44 PM.pdf\" target=\"_blank\">huntPastebin/general/Safari - May 17, 2025 at 1:44 PM.pdf</a><br>\n",
              "      <div style='background:#f4f4f4;padding:10px;border-radius:4px;margin-top:5px;color:black;'><b>email</b>: Lolly@yahoo.com.sg<br><b>username</b>: name</div>\n",
              "    </div>\n",
              "    "
            ]
          },
          "metadata": {}
        },
        {
          "output_type": "stream",
          "name": "stdout",
          "text": [
            "202.166.74.36\n",
            "103.10.65.121\n"
          ]
        },
        {
          "output_type": "display_data",
          "data": {
            "text/plain": [
              "<IPython.core.display.HTML object>"
            ],
            "text/html": [
              "\n",
              "    <div style='margin-bottom:20px; font-size:14px;'>\n",
              "      <b>File:</b> <a href=\"https://drive.google.com/drive/u/0/search?q=Safari - May 17, 2025 at 1:44 PM.pdf\" target=\"_blank\">huntPastebin/general/Safari - May 17, 2025 at 1:44 PM.pdf</a><br>\n",
              "      <div style='background:#f4f4f4;padding:10px;border-radius:4px;margin-top:5px;color:black;'><b>email</b>: s3th212@gmail.com<br><b>username</b>: name</div>\n",
              "    </div>\n",
              "    "
            ]
          },
          "metadata": {}
        },
        {
          "output_type": "display_data",
          "data": {
            "text/plain": [
              "<IPython.core.display.HTML object>"
            ],
            "text/html": [
              "\n",
              "    <div style='margin-bottom:20px; font-size:14px;'>\n",
              "      <b>File:</b> <a href=\"https://drive.google.com/drive/u/0/search?q=Safari - May 17, 2025 at 1:44 PM.pdf\" target=\"_blank\">huntPastebin/general/Safari - May 17, 2025 at 1:44 PM.pdf</a><br>\n",
              "      <div style='background:#f4f4f4;padding:10px;border-radius:4px;margin-top:5px;color:black;'><b>email</b>: s3th212@gmail.com<br><b>username</b>: name</div>\n",
              "    </div>\n",
              "    "
            ]
          },
          "metadata": {}
        },
        {
          "output_type": "stream",
          "name": "stdout",
          "text": [
            "173.52.85.251\n"
          ]
        },
        {
          "output_type": "display_data",
          "data": {
            "text/plain": [
              "<IPython.core.display.HTML object>"
            ],
            "text/html": [
              "\n",
              "    <div style='margin-bottom:20px; font-size:14px;'>\n",
              "      <b>File:</b> <a href=\"https://drive.google.com/drive/u/0/search?q=Safari - May 17, 2025 at 1:44 PM.pdf\" target=\"_blank\">huntPastebin/general/Safari - May 17, 2025 at 1:44 PM.pdf</a><br>\n",
              "      <div style='background:#f4f4f4;padding:10px;border-radius:4px;margin-top:5px;color:black;'><b>email</b>: notadude@yahoo.com<br><b>username</b>: name</div>\n",
              "    </div>\n",
              "    "
            ]
          },
          "metadata": {}
        },
        {
          "output_type": "display_data",
          "data": {
            "text/plain": [
              "<IPython.core.display.HTML object>"
            ],
            "text/html": [
              "\n",
              "    <div style='margin-bottom:20px; font-size:14px;'>\n",
              "      <b>File:</b> <a href=\"https://drive.google.com/drive/u/0/search?q=Safari - May 17, 2025 at 1:44 PM.pdf\" target=\"_blank\">huntPastebin/general/Safari - May 17, 2025 at 1:44 PM.pdf</a><br>\n",
              "      <div style='background:#f4f4f4;padding:10px;border-radius:4px;margin-top:5px;color:black;'><b>email</b>: notadude@yahoo.com<br><b>username</b>: name</div>\n",
              "    </div>\n",
              "    "
            ]
          },
          "metadata": {}
        },
        {
          "output_type": "display_data",
          "data": {
            "text/plain": [
              "<IPython.core.display.HTML object>"
            ],
            "text/html": [
              "\n",
              "    <div style='margin-bottom:20px; font-size:14px;'>\n",
              "      <b>File:</b> <a href=\"https://drive.google.com/drive/u/0/search?q=Safari - May 17, 2025 at 1:44 PM.pdf\" target=\"_blank\">huntPastebin/general/Safari - May 17, 2025 at 1:44 PM.pdf</a><br>\n",
              "      <div style='background:#f4f4f4;padding:10px;border-radius:4px;margin-top:5px;color:black;'><b>email</b>: stbukoski@gmail.com<br><b>username</b>: name</div>\n",
              "    </div>\n",
              "    "
            ]
          },
          "metadata": {}
        },
        {
          "output_type": "display_data",
          "data": {
            "text/plain": [
              "<IPython.core.display.HTML object>"
            ],
            "text/html": [
              "\n",
              "    <div style='margin-bottom:20px; font-size:14px;'>\n",
              "      <b>File:</b> <a href=\"https://drive.google.com/drive/u/0/search?q=Safari - May 17, 2025 at 1:44 PM.pdf\" target=\"_blank\">huntPastebin/general/Safari - May 17, 2025 at 1:44 PM.pdf</a><br>\n",
              "      <div style='background:#f4f4f4;padding:10px;border-radius:4px;margin-top:5px;color:black;'><b>email</b>: stbukoski@gmail.com<br><b>username</b>: name</div>\n",
              "    </div>\n",
              "    "
            ]
          },
          "metadata": {}
        },
        {
          "output_type": "display_data",
          "data": {
            "text/plain": [
              "<IPython.core.display.HTML object>"
            ],
            "text/html": [
              "\n",
              "    <div style='margin-bottom:20px; font-size:14px;'>\n",
              "      <b>File:</b> <a href=\"https://drive.google.com/drive/u/0/search?q=Safari - May 17, 2025 at 1:44 PM.pdf\" target=\"_blank\">huntPastebin/general/Safari - May 17, 2025 at 1:44 PM.pdf</a><br>\n",
              "      <div style='background:#f4f4f4;padding:10px;border-radius:4px;margin-top:5px;color:black;'><b>email</b>: 8sjustmyid@gmail.com<br><b>username</b>: name</div>\n",
              "    </div>\n",
              "    "
            ]
          },
          "metadata": {}
        },
        {
          "output_type": "display_data",
          "data": {
            "text/plain": [
              "<IPython.core.display.HTML object>"
            ],
            "text/html": [
              "\n",
              "    <div style='margin-bottom:20px; font-size:14px;'>\n",
              "      <b>File:</b> <a href=\"https://drive.google.com/drive/u/0/search?q=Safari - May 17, 2025 at 1:44 PM.pdf\" target=\"_blank\">huntPastebin/general/Safari - May 17, 2025 at 1:44 PM.pdf</a><br>\n",
              "      <div style='background:#f4f4f4;padding:10px;border-radius:4px;margin-top:5px;color:black;'><b>email</b>: 8sjustmyid@gmail.com<br><b>username</b>: name</div>\n",
              "    </div>\n",
              "    "
            ]
          },
          "metadata": {}
        },
        {
          "output_type": "display_data",
          "data": {
            "text/plain": [
              "<IPython.core.display.HTML object>"
            ],
            "text/html": [
              "\n",
              "    <div style='margin-bottom:20px; font-size:14px;'>\n",
              "      <b>File:</b> <a href=\"https://drive.google.com/drive/u/0/search?q=Safari - May 17, 2025 at 1:44 PM.pdf\" target=\"_blank\">huntPastebin/general/Safari - May 17, 2025 at 1:44 PM.pdf</a><br>\n",
              "      <div style='background:#f4f4f4;padding:10px;border-radius:4px;margin-top:5px;color:black;'><b>email</b>: k29041990@gmail.com<br><b>username</b>: name</div>\n",
              "    </div>\n",
              "    "
            ]
          },
          "metadata": {}
        },
        {
          "output_type": "display_data",
          "data": {
            "text/plain": [
              "<IPython.core.display.HTML object>"
            ],
            "text/html": [
              "\n",
              "    <div style='margin-bottom:20px; font-size:14px;'>\n",
              "      <b>File:</b> <a href=\"https://drive.google.com/drive/u/0/search?q=Safari - May 17, 2025 at 1:44 PM.pdf\" target=\"_blank\">huntPastebin/general/Safari - May 17, 2025 at 1:44 PM.pdf</a><br>\n",
              "      <div style='background:#f4f4f4;padding:10px;border-radius:4px;margin-top:5px;color:black;'><b>email</b>: k29041990@gmail.com<br><b>username</b>: name</div>\n",
              "    </div>\n",
              "    "
            ]
          },
          "metadata": {}
        },
        {
          "output_type": "display_data",
          "data": {
            "text/plain": [
              "<IPython.core.display.HTML object>"
            ],
            "text/html": [
              "\n",
              "    <div style='margin-bottom:20px; font-size:14px;'>\n",
              "      <b>File:</b> <a href=\"https://drive.google.com/drive/u/0/search?q=Safari - May 17, 2025 at 1:44 PM.pdf\" target=\"_blank\">huntPastebin/general/Safari - May 17, 2025 at 1:44 PM.pdf</a><br>\n",
              "      <div style='background:#f4f4f4;padding:10px;border-radius:4px;margin-top:5px;color:black;'><b>email</b>: jonhill1975@breakthru.c<br><b>username</b>: name</div>\n",
              "    </div>\n",
              "    "
            ]
          },
          "metadata": {}
        },
        {
          "output_type": "display_data",
          "data": {
            "text/plain": [
              "<IPython.core.display.HTML object>"
            ],
            "text/html": [
              "\n",
              "    <div style='margin-bottom:20px; font-size:14px;'>\n",
              "      <b>File:</b> <a href=\"https://drive.google.com/drive/u/0/search?q=Safari - May 17, 2025 at 1:44 PM.pdf\" target=\"_blank\">huntPastebin/general/Safari - May 17, 2025 at 1:44 PM.pdf</a><br>\n",
              "      <div style='background:#f4f4f4;padding:10px;border-radius:4px;margin-top:5px;color:black;'><b>email</b>: jonhill1975@breakthru.c<br><b>username</b>: name</div>\n",
              "    </div>\n",
              "    "
            ]
          },
          "metadata": {}
        },
        {
          "output_type": "display_data",
          "data": {
            "text/plain": [
              "<IPython.core.display.HTML object>"
            ],
            "text/html": [
              "\n",
              "    <div style='margin-bottom:20px; font-size:14px;'>\n",
              "      <b>File:</b> <a href=\"https://drive.google.com/drive/u/0/search?q=Safari - May 17, 2025 at 1:44 PM.pdf\" target=\"_blank\">huntPastebin/general/Safari - May 17, 2025 at 1:44 PM.pdf</a><br>\n",
              "      <div style='background:#f4f4f4;padding:10px;border-radius:4px;margin-top:5px;color:black;'><b>email</b>: coombs_christa@yahoo.co<br><b>username</b>: name</div>\n",
              "    </div>\n",
              "    "
            ]
          },
          "metadata": {}
        },
        {
          "output_type": "display_data",
          "data": {
            "text/plain": [
              "<IPython.core.display.HTML object>"
            ],
            "text/html": [
              "\n",
              "    <div style='margin-bottom:20px; font-size:14px;'>\n",
              "      <b>File:</b> <a href=\"https://drive.google.com/drive/u/0/search?q=Safari - May 17, 2025 at 1:44 PM.pdf\" target=\"_blank\">huntPastebin/general/Safari - May 17, 2025 at 1:44 PM.pdf</a><br>\n",
              "      <div style='background:#f4f4f4;padding:10px;border-radius:4px;margin-top:5px;color:black;'><b>email</b>: coombs_christa@yahoo.co<br><b>username</b>: name</div>\n",
              "    </div>\n",
              "    "
            ]
          },
          "metadata": {}
        },
        {
          "output_type": "display_data",
          "data": {
            "text/plain": [
              "<IPython.core.display.HTML object>"
            ],
            "text/html": [
              "\n",
              "    <div style='margin-bottom:20px; font-size:14px;'>\n",
              "      <b>File:</b> <a href=\"https://drive.google.com/drive/u/0/search?q=Safari - May 17, 2025 at 1:44 PM.pdf\" target=\"_blank\">huntPastebin/general/Safari - May 17, 2025 at 1:44 PM.pdf</a><br>\n",
              "      <div style='background:#f4f4f4;padding:10px;border-radius:4px;margin-top:5px;color:black;'><b>email</b>: terry3891@aol.com<br><b>username</b>: name</div>\n",
              "    </div>\n",
              "    "
            ]
          },
          "metadata": {}
        },
        {
          "output_type": "display_data",
          "data": {
            "text/plain": [
              "<IPython.core.display.HTML object>"
            ],
            "text/html": [
              "\n",
              "    <div style='margin-bottom:20px; font-size:14px;'>\n",
              "      <b>File:</b> <a href=\"https://drive.google.com/drive/u/0/search?q=Safari - May 17, 2025 at 1:44 PM.pdf\" target=\"_blank\">huntPastebin/general/Safari - May 17, 2025 at 1:44 PM.pdf</a><br>\n",
              "      <div style='background:#f4f4f4;padding:10px;border-radius:4px;margin-top:5px;color:black;'><b>email</b>: terry3891@aol.com<br><b>username</b>: name</div>\n",
              "    </div>\n",
              "    "
            ]
          },
          "metadata": {}
        },
        {
          "output_type": "display_data",
          "data": {
            "text/plain": [
              "<IPython.core.display.HTML object>"
            ],
            "text/html": [
              "\n",
              "    <div style='margin-bottom:20px; font-size:14px;'>\n",
              "      <b>File:</b> <a href=\"https://drive.google.com/drive/u/0/search?q=Safari - May 17, 2025 at 1:44 PM.pdf\" target=\"_blank\">huntPastebin/general/Safari - May 17, 2025 at 1:44 PM.pdf</a><br>\n",
              "      <div style='background:#f4f4f4;padding:10px;border-radius:4px;margin-top:5px;color:black;'><b>email</b>: notadudexshyeah@yahoo.c<br><b>username</b>: name</div>\n",
              "    </div>\n",
              "    "
            ]
          },
          "metadata": {}
        },
        {
          "output_type": "display_data",
          "data": {
            "text/plain": [
              "<IPython.core.display.HTML object>"
            ],
            "text/html": [
              "\n",
              "    <div style='margin-bottom:20px; font-size:14px;'>\n",
              "      <b>File:</b> <a href=\"https://drive.google.com/drive/u/0/search?q=Safari - May 17, 2025 at 1:44 PM.pdf\" target=\"_blank\">huntPastebin/general/Safari - May 17, 2025 at 1:44 PM.pdf</a><br>\n",
              "      <div style='background:#f4f4f4;padding:10px;border-radius:4px;margin-top:5px;color:black;'><b>email</b>: notadudexshyeah@yahoo.c<br><b>username</b>: name</div>\n",
              "    </div>\n",
              "    "
            ]
          },
          "metadata": {}
        },
        {
          "output_type": "display_data",
          "data": {
            "text/plain": [
              "<IPython.core.display.HTML object>"
            ],
            "text/html": [
              "\n",
              "    <div style='margin-bottom:20px; font-size:14px;'>\n",
              "      <b>File:</b> <a href=\"https://drive.google.com/drive/u/0/search?q=Safari - May 17, 2025 at 1:44 PM.pdf\" target=\"_blank\">huntPastebin/general/Safari - May 17, 2025 at 1:44 PM.pdf</a><br>\n",
              "      <div style='background:#f4f4f4;padding:10px;border-radius:4px;margin-top:5px;color:black;'><b>email</b>: austin22802@hotmail.com<br><b>username</b>: name</div>\n",
              "    </div>\n",
              "    "
            ]
          },
          "metadata": {}
        },
        {
          "output_type": "display_data",
          "data": {
            "text/plain": [
              "<IPython.core.display.HTML object>"
            ],
            "text/html": [
              "\n",
              "    <div style='margin-bottom:20px; font-size:14px;'>\n",
              "      <b>File:</b> <a href=\"https://drive.google.com/drive/u/0/search?q=Safari - May 17, 2025 at 1:44 PM.pdf\" target=\"_blank\">huntPastebin/general/Safari - May 17, 2025 at 1:44 PM.pdf</a><br>\n",
              "      <div style='background:#f4f4f4;padding:10px;border-radius:4px;margin-top:5px;color:black;'><b>email</b>: austin22802@hotmail.com<br><b>username</b>: name</div>\n",
              "    </div>\n",
              "    "
            ]
          },
          "metadata": {}
        },
        {
          "output_type": "stream",
          "name": "stdout",
          "text": [
            "68.52.14.199\n"
          ]
        },
        {
          "output_type": "display_data",
          "data": {
            "text/plain": [
              "<IPython.core.display.HTML object>"
            ],
            "text/html": [
              "\n",
              "    <div style='margin-bottom:20px; font-size:14px;'>\n",
              "      <b>File:</b> <a href=\"https://drive.google.com/drive/u/0/search?q=Safari - May 17, 2025 at 1:44 PM.pdf\" target=\"_blank\">huntPastebin/general/Safari - May 17, 2025 at 1:44 PM.pdf</a><br>\n",
              "      <div style='background:#f4f4f4;padding:10px;border-radius:4px;margin-top:5px;color:black;'><b>email</b>: yanahdude@gmail.com<br><b>username</b>: name</div>\n",
              "    </div>\n",
              "    "
            ]
          },
          "metadata": {}
        },
        {
          "output_type": "display_data",
          "data": {
            "text/plain": [
              "<IPython.core.display.HTML object>"
            ],
            "text/html": [
              "\n",
              "    <div style='margin-bottom:20px; font-size:14px;'>\n",
              "      <b>File:</b> <a href=\"https://drive.google.com/drive/u/0/search?q=Safari - May 17, 2025 at 1:44 PM.pdf\" target=\"_blank\">huntPastebin/general/Safari - May 17, 2025 at 1:44 PM.pdf</a><br>\n",
              "      <div style='background:#f4f4f4;padding:10px;border-radius:4px;margin-top:5px;color:black;'><b>email</b>: yanahdude@gmail.com<br><b>username</b>: name</div>\n",
              "    </div>\n",
              "    "
            ]
          },
          "metadata": {}
        },
        {
          "output_type": "display_data",
          "data": {
            "text/plain": [
              "<IPython.core.display.HTML object>"
            ],
            "text/html": [
              "\n",
              "    <div style='margin-bottom:20px; font-size:14px;'>\n",
              "      <b>File:</b> <a href=\"https://drive.google.com/drive/u/0/search?q=Safari - May 17, 2025 at 1:44 PM.pdf\" target=\"_blank\">huntPastebin/general/Safari - May 17, 2025 at 1:44 PM.pdf</a><br>\n",
              "      <div style='background:#f4f4f4;padding:10px;border-radius:4px;margin-top:5px;color:black;'><b>email</b>: eliana.hanson@gmail.com<br><b>username</b>: name</div>\n",
              "    </div>\n",
              "    "
            ]
          },
          "metadata": {}
        },
        {
          "output_type": "display_data",
          "data": {
            "text/plain": [
              "<IPython.core.display.HTML object>"
            ],
            "text/html": [
              "\n",
              "    <div style='margin-bottom:20px; font-size:14px;'>\n",
              "      <b>File:</b> <a href=\"https://drive.google.com/drive/u/0/search?q=Safari - May 17, 2025 at 1:44 PM.pdf\" target=\"_blank\">huntPastebin/general/Safari - May 17, 2025 at 1:44 PM.pdf</a><br>\n",
              "      <div style='background:#f4f4f4;padding:10px;border-radius:4px;margin-top:5px;color:black;'><b>email</b>: eliana.hanson@gmail.com<br><b>username</b>: name</div>\n",
              "    </div>\n",
              "    "
            ]
          },
          "metadata": {}
        },
        {
          "output_type": "display_data",
          "data": {
            "text/plain": [
              "<IPython.core.display.HTML object>"
            ],
            "text/html": [
              "\n",
              "    <div style='margin-bottom:20px; font-size:14px;'>\n",
              "      <b>File:</b> <a href=\"https://drive.google.com/drive/u/0/search?q=Safari - May 17, 2025 at 1:44 PM.pdf\" target=\"_blank\">huntPastebin/general/Safari - May 17, 2025 at 1:44 PM.pdf</a><br>\n",
              "      <div style='background:#f4f4f4;padding:10px;border-radius:4px;margin-top:5px;color:black;'><b>email</b>: abigail050@yahoo.com<br><b>username</b>: name</div>\n",
              "    </div>\n",
              "    "
            ]
          },
          "metadata": {}
        },
        {
          "output_type": "display_data",
          "data": {
            "text/plain": [
              "<IPython.core.display.HTML object>"
            ],
            "text/html": [
              "\n",
              "    <div style='margin-bottom:20px; font-size:14px;'>\n",
              "      <b>File:</b> <a href=\"https://drive.google.com/drive/u/0/search?q=Safari - May 17, 2025 at 1:44 PM.pdf\" target=\"_blank\">huntPastebin/general/Safari - May 17, 2025 at 1:44 PM.pdf</a><br>\n",
              "      <div style='background:#f4f4f4;padding:10px;border-radius:4px;margin-top:5px;color:black;'><b>email</b>: abigail050@yahoo.com<br><b>username</b>: name</div>\n",
              "    </div>\n",
              "    "
            ]
          },
          "metadata": {}
        },
        {
          "output_type": "display_data",
          "data": {
            "text/plain": [
              "<IPython.core.display.HTML object>"
            ],
            "text/html": [
              "\n",
              "    <div style='margin-bottom:20px; font-size:14px;'>\n",
              "      <b>File:</b> <a href=\"https://drive.google.com/drive/u/0/search?q=Safari - May 17, 2025 at 1:44 PM.pdf\" target=\"_blank\">huntPastebin/general/Safari - May 17, 2025 at 1:44 PM.pdf</a><br>\n",
              "      <div style='background:#f4f4f4;padding:10px;border-radius:4px;margin-top:5px;color:black;'><b>email</b>: chicky80bt@yahoo.com<br><b>username</b>: name</div>\n",
              "    </div>\n",
              "    "
            ]
          },
          "metadata": {}
        },
        {
          "output_type": "display_data",
          "data": {
            "text/plain": [
              "<IPython.core.display.HTML object>"
            ],
            "text/html": [
              "\n",
              "    <div style='margin-bottom:20px; font-size:14px;'>\n",
              "      <b>File:</b> <a href=\"https://drive.google.com/drive/u/0/search?q=Safari - May 17, 2025 at 1:44 PM.pdf\" target=\"_blank\">huntPastebin/general/Safari - May 17, 2025 at 1:44 PM.pdf</a><br>\n",
              "      <div style='background:#f4f4f4;padding:10px;border-radius:4px;margin-top:5px;color:black;'><b>email</b>: chicky80bt@yahoo.com<br><b>username</b>: name</div>\n",
              "    </div>\n",
              "    "
            ]
          },
          "metadata": {}
        },
        {
          "output_type": "display_data",
          "data": {
            "text/plain": [
              "<IPython.core.display.HTML object>"
            ],
            "text/html": [
              "\n",
              "    <div style='margin-bottom:20px; font-size:14px;'>\n",
              "      <b>File:</b> <a href=\"https://drive.google.com/drive/u/0/search?q=Safari - May 17, 2025 at 1:44 PM.pdf\" target=\"_blank\">huntPastebin/general/Safari - May 17, 2025 at 1:44 PM.pdf</a><br>\n",
              "      <div style='background:#f4f4f4;padding:10px;border-radius:4px;margin-top:5px;color:black;'><b>email</b>: nigel00101@gmail.com<br><b>username</b>: name</div>\n",
              "    </div>\n",
              "    "
            ]
          },
          "metadata": {}
        },
        {
          "output_type": "display_data",
          "data": {
            "text/plain": [
              "<IPython.core.display.HTML object>"
            ],
            "text/html": [
              "\n",
              "    <div style='margin-bottom:20px; font-size:14px;'>\n",
              "      <b>File:</b> <a href=\"https://drive.google.com/drive/u/0/search?q=Safari - May 17, 2025 at 1:44 PM.pdf\" target=\"_blank\">huntPastebin/general/Safari - May 17, 2025 at 1:44 PM.pdf</a><br>\n",
              "      <div style='background:#f4f4f4;padding:10px;border-radius:4px;margin-top:5px;color:black;'><b>email</b>: nigel00101@gmail.com<br><b>username</b>: name</div>\n",
              "    </div>\n",
              "    "
            ]
          },
          "metadata": {}
        },
        {
          "output_type": "display_data",
          "data": {
            "text/plain": [
              "<IPython.core.display.HTML object>"
            ],
            "text/html": [
              "\n",
              "    <div style='margin-bottom:20px; font-size:14px;'>\n",
              "      <b>File:</b> <a href=\"https://drive.google.com/drive/u/0/search?q=Safari - May 17, 2025 at 1:44 PM.pdf\" target=\"_blank\">huntPastebin/general/Safari - May 17, 2025 at 1:44 PM.pdf</a><br>\n",
              "      <div style='background:#f4f4f4;padding:10px;border-radius:4px;margin-top:5px;color:black;'><b>email</b>: yanahdude@gmail.com<br><b>username</b>: name</div>\n",
              "    </div>\n",
              "    "
            ]
          },
          "metadata": {}
        },
        {
          "output_type": "display_data",
          "data": {
            "text/plain": [
              "<IPython.core.display.HTML object>"
            ],
            "text/html": [
              "\n",
              "    <div style='margin-bottom:20px; font-size:14px;'>\n",
              "      <b>File:</b> <a href=\"https://drive.google.com/drive/u/0/search?q=Safari - May 17, 2025 at 1:44 PM.pdf\" target=\"_blank\">huntPastebin/general/Safari - May 17, 2025 at 1:44 PM.pdf</a><br>\n",
              "      <div style='background:#f4f4f4;padding:10px;border-radius:4px;margin-top:5px;color:black;'><b>email</b>: yanahdude@gmail.com<br><b>username</b>: name</div>\n",
              "    </div>\n",
              "    "
            ]
          },
          "metadata": {}
        },
        {
          "output_type": "display_data",
          "data": {
            "text/plain": [
              "<IPython.core.display.HTML object>"
            ],
            "text/html": [
              "\n",
              "    <div style='margin-bottom:20px; font-size:14px;'>\n",
              "      <b>File:</b> <a href=\"https://drive.google.com/drive/u/0/search?q=Safari - May 17, 2025 at 1:44 PM.pdf\" target=\"_blank\">huntPastebin/general/Safari - May 17, 2025 at 1:44 PM.pdf</a><br>\n",
              "      <div style='background:#f4f4f4;padding:10px;border-radius:4px;margin-top:5px;color:black;'><b>email</b>: andre@paintit.co.za<br><b>username</b>: name</div>\n",
              "    </div>\n",
              "    "
            ]
          },
          "metadata": {}
        },
        {
          "output_type": "display_data",
          "data": {
            "text/plain": [
              "<IPython.core.display.HTML object>"
            ],
            "text/html": [
              "\n",
              "    <div style='margin-bottom:20px; font-size:14px;'>\n",
              "      <b>File:</b> <a href=\"https://drive.google.com/drive/u/0/search?q=Safari - May 17, 2025 at 1:44 PM.pdf\" target=\"_blank\">huntPastebin/general/Safari - May 17, 2025 at 1:44 PM.pdf</a><br>\n",
              "      <div style='background:#f4f4f4;padding:10px;border-radius:4px;margin-top:5px;color:black;'><b>email</b>: andre@paintit.co.za<br><b>username</b>: name</div>\n",
              "    </div>\n",
              "    "
            ]
          },
          "metadata": {}
        },
        {
          "output_type": "display_data",
          "data": {
            "text/plain": [
              "<IPython.core.display.HTML object>"
            ],
            "text/html": [
              "\n",
              "    <div style='margin-bottom:20px; font-size:14px;'>\n",
              "      <b>File:</b> <a href=\"https://drive.google.com/drive/u/0/search?q=Safari - May 17, 2025 at 1:44 PM.pdf\" target=\"_blank\">huntPastebin/general/Safari - May 17, 2025 at 1:44 PM.pdf</a><br>\n",
              "      <div style='background:#f4f4f4;padding:10px;border-radius:4px;margin-top:5px;color:black;'><b>email</b>: irishwolfe42@yahoo.com<br><b>username</b>: name</div>\n",
              "    </div>\n",
              "    "
            ]
          },
          "metadata": {}
        },
        {
          "output_type": "display_data",
          "data": {
            "text/plain": [
              "<IPython.core.display.HTML object>"
            ],
            "text/html": [
              "\n",
              "    <div style='margin-bottom:20px; font-size:14px;'>\n",
              "      <b>File:</b> <a href=\"https://drive.google.com/drive/u/0/search?q=Safari - May 17, 2025 at 1:44 PM.pdf\" target=\"_blank\">huntPastebin/general/Safari - May 17, 2025 at 1:44 PM.pdf</a><br>\n",
              "      <div style='background:#f4f4f4;padding:10px;border-radius:4px;margin-top:5px;color:black;'><b>email</b>: irishwolfe42@yahoo.com<br><b>username</b>: name</div>\n",
              "    </div>\n",
              "    "
            ]
          },
          "metadata": {}
        },
        {
          "output_type": "display_data",
          "data": {
            "text/plain": [
              "<IPython.core.display.HTML object>"
            ],
            "text/html": [
              "\n",
              "    <div style='margin-bottom:20px; font-size:14px;'>\n",
              "      <b>File:</b> <a href=\"https://drive.google.com/drive/u/0/search?q=Safari - May 17, 2025 at 1:44 PM.pdf\" target=\"_blank\">huntPastebin/general/Safari - May 17, 2025 at 1:44 PM.pdf</a><br>\n",
              "      <div style='background:#f4f4f4;padding:10px;border-radius:4px;margin-top:5px;color:black;'><b>email</b>: celinabjensen@hotmail.c<br><b>username</b>: name</div>\n",
              "    </div>\n",
              "    "
            ]
          },
          "metadata": {}
        },
        {
          "output_type": "display_data",
          "data": {
            "text/plain": [
              "<IPython.core.display.HTML object>"
            ],
            "text/html": [
              "\n",
              "    <div style='margin-bottom:20px; font-size:14px;'>\n",
              "      <b>File:</b> <a href=\"https://drive.google.com/drive/u/0/search?q=Safari - May 17, 2025 at 1:44 PM.pdf\" target=\"_blank\">huntPastebin/general/Safari - May 17, 2025 at 1:44 PM.pdf</a><br>\n",
              "      <div style='background:#f4f4f4;padding:10px;border-radius:4px;margin-top:5px;color:black;'><b>email</b>: celinabjensen@hotmail.c<br><b>username</b>: name</div>\n",
              "    </div>\n",
              "    "
            ]
          },
          "metadata": {}
        },
        {
          "output_type": "stream",
          "name": "stdout",
          "text": [
            "scanning Safari - May 17, 2025 at 1:33 PM.pdf\n",
            "141.101.105.118\n",
            "88.224.249.152\n",
            "173.245.53.63\n",
            "78.165.232.237\n",
            "91.140.186.131\n",
            "24.113.101.73\n",
            "218.75.208.139\n",
            "200.68.140.23\n",
            "88.224.249.152\n",
            "78.165.232.237\n",
            "scanning Safari - May 17, 2025 at 10:50 AM.pdf\n",
            "75.64.34.62\n",
            "81.100.114.19\n",
            "scanning Safari - May 17, 2025 at 1:37 PM 2.pdf\n",
            "scanning Safari - May 17, 2025 at 12:10 PM.pdf\n",
            "69.250.133.110\n",
            "65.199.179.89\n",
            "192.124.45.57\n",
            "134.14.161.173\n",
            "192.84.10.206\n",
            "141.86.248.151\n",
            "69.13.184.120\n",
            "216.187.109.165\n",
            "192.86.135.255\n",
            "72.32.144.92\n",
            "192.153.115.12\n",
            "scanning Safari - May 17, 2025 at 11:04 AM.pdf\n",
            "scanning Safari - May 17, 2025 at 1:46 PM 2.pdf\n"
          ]
        },
        {
          "output_type": "display_data",
          "data": {
            "text/plain": [
              "<IPython.core.display.HTML object>"
            ],
            "text/html": [
              "\n",
              "    <div style='margin-bottom:20px; font-size:14px;'>\n",
              "      <b>File:</b> <a href=\"https://drive.google.com/drive/u/0/search?q=Safari - May 17, 2025 at 1:46 PM 2.pdf\" target=\"_blank\">huntPastebin/general/Safari - May 17, 2025 at 1:46 PM 2.pdf</a><br>\n",
              "      <div style='background:#f4f4f4;padding:10px;border-radius:4px;margin-top:5px;color:black;'><b>email</b>: angwrack@hotmail.com<br><b>username</b>: name</div>\n",
              "    </div>\n",
              "    "
            ]
          },
          "metadata": {}
        },
        {
          "output_type": "display_data",
          "data": {
            "text/plain": [
              "<IPython.core.display.HTML object>"
            ],
            "text/html": [
              "\n",
              "    <div style='margin-bottom:20px; font-size:14px;'>\n",
              "      <b>File:</b> <a href=\"https://drive.google.com/drive/u/0/search?q=Safari - May 17, 2025 at 1:46 PM 2.pdf\" target=\"_blank\">huntPastebin/general/Safari - May 17, 2025 at 1:46 PM 2.pdf</a><br>\n",
              "      <div style='background:#f4f4f4;padding:10px;border-radius:4px;margin-top:5px;color:black;'><b>email</b>: angwrack@hotmail.com<br><b>username</b>: name</div>\n",
              "    </div>\n",
              "    "
            ]
          },
          "metadata": {}
        },
        {
          "output_type": "display_data",
          "data": {
            "text/plain": [
              "<IPython.core.display.HTML object>"
            ],
            "text/html": [
              "\n",
              "    <div style='margin-bottom:20px; font-size:14px;'>\n",
              "      <b>File:</b> <a href=\"https://drive.google.com/drive/u/0/search?q=Safari - May 17, 2025 at 1:46 PM 2.pdf\" target=\"_blank\">huntPastebin/general/Safari - May 17, 2025 at 1:46 PM 2.pdf</a><br>\n",
              "      <div style='background:#f4f4f4;padding:10px;border-radius:4px;margin-top:5px;color:black;'><b>email</b>: wrackrsa@wp.pl<br><b>username</b>: name</div>\n",
              "    </div>\n",
              "    "
            ]
          },
          "metadata": {}
        },
        {
          "output_type": "display_data",
          "data": {
            "text/plain": [
              "<IPython.core.display.HTML object>"
            ],
            "text/html": [
              "\n",
              "    <div style='margin-bottom:20px; font-size:14px;'>\n",
              "      <b>File:</b> <a href=\"https://drive.google.com/drive/u/0/search?q=Safari - May 17, 2025 at 1:46 PM 2.pdf\" target=\"_blank\">huntPastebin/general/Safari - May 17, 2025 at 1:46 PM 2.pdf</a><br>\n",
              "      <div style='background:#f4f4f4;padding:10px;border-radius:4px;margin-top:5px;color:black;'><b>email</b>: wrackrsa@wp.pl<br><b>username</b>: name</div>\n",
              "    </div>\n",
              "    "
            ]
          },
          "metadata": {}
        },
        {
          "output_type": "stream",
          "name": "stdout",
          "text": [
            "83.142.174.62\n",
            "83.72.221.115\n",
            "83.72.221.115\n",
            "2.129.31.164\n",
            "81.171.81.95\n",
            "83.73.168.25\n",
            "83.72.221.115\n",
            "69.255.74.137\n",
            "78.101.171.63\n",
            "188.143.232.44\n",
            "96.50.185.139\n",
            "112.198.222.204\n",
            "188.143.232.25\n"
          ]
        },
        {
          "output_type": "display_data",
          "data": {
            "text/plain": [
              "<IPython.core.display.HTML object>"
            ],
            "text/html": [
              "\n",
              "    <div style='margin-bottom:20px; font-size:14px;'>\n",
              "      <b>File:</b> <a href=\"https://drive.google.com/drive/u/0/search?q=Safari - May 17, 2025 at 1:46 PM 2.pdf\" target=\"_blank\">huntPastebin/general/Safari - May 17, 2025 at 1:46 PM 2.pdf</a><br>\n",
              "      <div style='background:#f4f4f4;padding:10px;border-radius:4px;margin-top:5px;color:black;'><b>email</b>: wrackrsa@gmail.com<br><b>username</b>: name</div>\n",
              "    </div>\n",
              "    "
            ]
          },
          "metadata": {}
        },
        {
          "output_type": "display_data",
          "data": {
            "text/plain": [
              "<IPython.core.display.HTML object>"
            ],
            "text/html": [
              "\n",
              "    <div style='margin-bottom:20px; font-size:14px;'>\n",
              "      <b>File:</b> <a href=\"https://drive.google.com/drive/u/0/search?q=Safari - May 17, 2025 at 1:46 PM 2.pdf\" target=\"_blank\">huntPastebin/general/Safari - May 17, 2025 at 1:46 PM 2.pdf</a><br>\n",
              "      <div style='background:#f4f4f4;padding:10px;border-radius:4px;margin-top:5px;color:black;'><b>email</b>: wrackrsa@gmail.com<br><b>username</b>: name</div>\n",
              "    </div>\n",
              "    "
            ]
          },
          "metadata": {}
        },
        {
          "output_type": "stream",
          "name": "stdout",
          "text": [
            "93.176.207.33\n",
            "78.97.224.171\n",
            "81.216.169.149\n",
            "188.176.111.234\n",
            "76.181.190.89\n",
            "218.11.179.54\n",
            "218.11.179.54\n",
            "119.247.168.64\n",
            "119.247.168.64\n",
            "119.247.168.64\n",
            "119.247.168.64\n",
            "scanning Safari - May 17, 2025 at 12:14 PM.pdf\n",
            "scanning Safari - May 17, 2025 at 1:28 PM.pdf\n",
            "204.79.155.18\n",
            "204.14.219.127\n",
            "scanning Safari - May 17, 2025 at 1:46 PM.pdf\n"
          ]
        },
        {
          "output_type": "display_data",
          "data": {
            "text/plain": [
              "<IPython.core.display.HTML object>"
            ],
            "text/html": [
              "\n",
              "    <div style='margin-bottom:20px; font-size:14px;'>\n",
              "      <b>File:</b> <a href=\"https://drive.google.com/drive/u/0/search?q=Safari - May 17, 2025 at 1:46 PM.pdf\" target=\"_blank\">huntPastebin/general/Safari - May 17, 2025 at 1:46 PM.pdf</a><br>\n",
              "      <div style='background:#f4f4f4;padding:10px;border-radius:4px;margin-top:5px;color:black;'><b>email</b>: NoTaDude509@aol.com<br><b>username</b>: name</div>\n",
              "    </div>\n",
              "    "
            ]
          },
          "metadata": {}
        },
        {
          "output_type": "display_data",
          "data": {
            "text/plain": [
              "<IPython.core.display.HTML object>"
            ],
            "text/html": [
              "\n",
              "    <div style='margin-bottom:20px; font-size:14px;'>\n",
              "      <b>File:</b> <a href=\"https://drive.google.com/drive/u/0/search?q=Safari - May 17, 2025 at 1:46 PM.pdf\" target=\"_blank\">huntPastebin/general/Safari - May 17, 2025 at 1:46 PM.pdf</a><br>\n",
              "      <div style='background:#f4f4f4;padding:10px;border-radius:4px;margin-top:5px;color:black;'><b>email</b>: NoTaDude509@aol.com<br><b>username</b>: name<br><b>password</b>: word</div>\n",
              "    </div>\n",
              "    "
            ]
          },
          "metadata": {}
        },
        {
          "output_type": "display_data",
          "data": {
            "text/plain": [
              "<IPython.core.display.HTML object>"
            ],
            "text/html": [
              "\n",
              "    <div style='margin-bottom:20px; font-size:14px;'>\n",
              "      <b>File:</b> <a href=\"https://drive.google.com/drive/u/0/search?q=Safari - May 17, 2025 at 1:46 PM.pdf\" target=\"_blank\">huntPastebin/general/Safari - May 17, 2025 at 1:46 PM.pdf</a><br>\n",
              "      <div style='background:#f4f4f4;padding:10px;border-radius:4px;margin-top:5px;color:black;'><b>email</b>: notadude509@aol.com<br><b>username</b>: name</div>\n",
              "    </div>\n",
              "    "
            ]
          },
          "metadata": {}
        },
        {
          "output_type": "display_data",
          "data": {
            "text/plain": [
              "<IPython.core.display.HTML object>"
            ],
            "text/html": [
              "\n",
              "    <div style='margin-bottom:20px; font-size:14px;'>\n",
              "      <b>File:</b> <a href=\"https://drive.google.com/drive/u/0/search?q=Safari - May 17, 2025 at 1:46 PM.pdf\" target=\"_blank\">huntPastebin/general/Safari - May 17, 2025 at 1:46 PM.pdf</a><br>\n",
              "      <div style='background:#f4f4f4;padding:10px;border-radius:4px;margin-top:5px;color:black;'><b>email</b>: notadude509@aol.com<br><b>username</b>: name</div>\n",
              "    </div>\n",
              "    "
            ]
          },
          "metadata": {}
        },
        {
          "output_type": "display_data",
          "data": {
            "text/plain": [
              "<IPython.core.display.HTML object>"
            ],
            "text/html": [
              "\n",
              "    <div style='margin-bottom:20px; font-size:14px;'>\n",
              "      <b>File:</b> <a href=\"https://drive.google.com/drive/u/0/search?q=Safari - May 17, 2025 at 1:46 PM.pdf\" target=\"_blank\">huntPastebin/general/Safari - May 17, 2025 at 1:46 PM.pdf</a><br>\n",
              "      <div style='background:#f4f4f4;padding:10px;border-radius:4px;margin-top:5px;color:black;'><b>email</b>: notadude509@aol.com<br><b>username</b>: name</div>\n",
              "    </div>\n",
              "    "
            ]
          },
          "metadata": {}
        },
        {
          "output_type": "display_data",
          "data": {
            "text/plain": [
              "<IPython.core.display.HTML object>"
            ],
            "text/html": [
              "\n",
              "    <div style='margin-bottom:20px; font-size:14px;'>\n",
              "      <b>File:</b> <a href=\"https://drive.google.com/drive/u/0/search?q=Safari - May 17, 2025 at 1:46 PM.pdf\" target=\"_blank\">huntPastebin/general/Safari - May 17, 2025 at 1:46 PM.pdf</a><br>\n",
              "      <div style='background:#f4f4f4;padding:10px;border-radius:4px;margin-top:5px;color:black;'><b>email</b>: notadude509@aol.com<br><b>username</b>: name</div>\n",
              "    </div>\n",
              "    "
            ]
          },
          "metadata": {}
        },
        {
          "output_type": "display_data",
          "data": {
            "text/plain": [
              "<IPython.core.display.HTML object>"
            ],
            "text/html": [
              "\n",
              "    <div style='margin-bottom:20px; font-size:14px;'>\n",
              "      <b>File:</b> <a href=\"https://drive.google.com/drive/u/0/search?q=Safari - May 17, 2025 at 1:46 PM.pdf\" target=\"_blank\">huntPastebin/general/Safari - May 17, 2025 at 1:46 PM.pdf</a><br>\n",
              "      <div style='background:#f4f4f4;padding:10px;border-radius:4px;margin-top:5px;color:black;'><b>email</b>: notadude509@aol.com<br><b>username</b>: name</div>\n",
              "    </div>\n",
              "    "
            ]
          },
          "metadata": {}
        },
        {
          "output_type": "display_data",
          "data": {
            "text/plain": [
              "<IPython.core.display.HTML object>"
            ],
            "text/html": [
              "\n",
              "    <div style='margin-bottom:20px; font-size:14px;'>\n",
              "      <b>File:</b> <a href=\"https://drive.google.com/drive/u/0/search?q=Safari - May 17, 2025 at 1:46 PM.pdf\" target=\"_blank\">huntPastebin/general/Safari - May 17, 2025 at 1:46 PM.pdf</a><br>\n",
              "      <div style='background:#f4f4f4;padding:10px;border-radius:4px;margin-top:5px;color:black;'><b>email</b>: NoTaDude509@aol.com<br><b>username</b>: name</div>\n",
              "    </div>\n",
              "    "
            ]
          },
          "metadata": {}
        },
        {
          "output_type": "display_data",
          "data": {
            "text/plain": [
              "<IPython.core.display.HTML object>"
            ],
            "text/html": [
              "\n",
              "    <div style='margin-bottom:20px; font-size:14px;'>\n",
              "      <b>File:</b> <a href=\"https://drive.google.com/drive/u/0/search?q=Safari - May 17, 2025 at 1:46 PM.pdf\" target=\"_blank\">huntPastebin/general/Safari - May 17, 2025 at 1:46 PM.pdf</a><br>\n",
              "      <div style='background:#f4f4f4;padding:10px;border-radius:4px;margin-top:5px;color:black;'><b>email</b>: NoTaDude509@aol.com<br><b>username</b>: name</div>\n",
              "    </div>\n",
              "    "
            ]
          },
          "metadata": {}
        },
        {
          "output_type": "stream",
          "name": "stdout",
          "text": [
            "scanning Safari - May 17, 2025 at 12:15 PM.pdf\n",
            "216.187.109.165\n",
            "scanning Safari - May 17, 2025 at 1:45 PM.pdf\n"
          ]
        },
        {
          "output_type": "display_data",
          "data": {
            "text/plain": [
              "<IPython.core.display.HTML object>"
            ],
            "text/html": [
              "\n",
              "    <div style='margin-bottom:20px; font-size:14px;'>\n",
              "      <b>File:</b> <a href=\"https://drive.google.com/drive/u/0/search?q=Safari - May 17, 2025 at 1:45 PM.pdf\" target=\"_blank\">huntPastebin/general/Safari - May 17, 2025 at 1:45 PM.pdf</a><br>\n",
              "      <div style='background:#f4f4f4;padding:10px;border-radius:4px;margin-top:5px;color:black;'><b>username</b>: name<br><b>password</b>: word</div>\n",
              "    </div>\n",
              "    "
            ]
          },
          "metadata": {}
        },
        {
          "output_type": "display_data",
          "data": {
            "text/plain": [
              "<IPython.core.display.HTML object>"
            ],
            "text/html": [
              "\n",
              "    <div style='margin-bottom:20px; font-size:14px;'>\n",
              "      <b>File:</b> <a href=\"https://drive.google.com/drive/u/0/search?q=Safari - May 17, 2025 at 1:45 PM.pdf\" target=\"_blank\">huntPastebin/general/Safari - May 17, 2025 at 1:45 PM.pdf</a><br>\n",
              "      <div style='background:#f4f4f4;padding:10px;border-radius:4px;margin-top:5px;color:black;'><b>email</b>: notadude@yahoo.com<br><b>password</b>: barky86</div>\n",
              "    </div>\n",
              "    "
            ]
          },
          "metadata": {}
        },
        {
          "output_type": "display_data",
          "data": {
            "text/plain": [
              "<IPython.core.display.HTML object>"
            ],
            "text/html": [
              "\n",
              "    <div style='margin-bottom:20px; font-size:14px;'>\n",
              "      <b>File:</b> <a href=\"https://drive.google.com/drive/u/0/search?q=Safari - May 17, 2025 at 1:45 PM.pdf\" target=\"_blank\">huntPastebin/general/Safari - May 17, 2025 at 1:45 PM.pdf</a><br>\n",
              "      <div style='background:#f4f4f4;padding:10px;border-radius:4px;margin-top:5px;color:black;'><b>email</b>: notadudexshyeah@yahoo.com<br><b>password</b>: word</div>\n",
              "    </div>\n",
              "    "
            ]
          },
          "metadata": {}
        },
        {
          "output_type": "display_data",
          "data": {
            "text/plain": [
              "<IPython.core.display.HTML object>"
            ],
            "text/html": [
              "\n",
              "    <div style='margin-bottom:20px; font-size:14px;'>\n",
              "      <b>File:</b> <a href=\"https://drive.google.com/drive/u/0/search?q=Safari - May 17, 2025 at 1:45 PM.pdf\" target=\"_blank\">huntPastebin/general/Safari - May 17, 2025 at 1:45 PM.pdf</a><br>\n",
              "      <div style='background:#f4f4f4;padding:10px;border-radius:4px;margin-top:5px;color:black;'><b>email</b>: notadudexshyeah@yahoo.com<br><b>password</b>: word</div>\n",
              "    </div>\n",
              "    "
            ]
          },
          "metadata": {}
        },
        {
          "output_type": "display_data",
          "data": {
            "text/plain": [
              "<IPython.core.display.HTML object>"
            ],
            "text/html": [
              "\n",
              "    <div style='margin-bottom:20px; font-size:14px;'>\n",
              "      <b>File:</b> <a href=\"https://drive.google.com/drive/u/0/search?q=Safari - May 17, 2025 at 1:45 PM.pdf\" target=\"_blank\">huntPastebin/general/Safari - May 17, 2025 at 1:45 PM.pdf</a><br>\n",
              "      <div style='background:#f4f4f4;padding:10px;border-radius:4px;margin-top:5px;color:black;'><b>email</b>: NOTADUDE89@AOL.COM<br><b>password</b>: word</div>\n",
              "    </div>\n",
              "    "
            ]
          },
          "metadata": {}
        },
        {
          "output_type": "display_data",
          "data": {
            "text/plain": [
              "<IPython.core.display.HTML object>"
            ],
            "text/html": [
              "\n",
              "    <div style='margin-bottom:20px; font-size:14px;'>\n",
              "      <b>File:</b> <a href=\"https://drive.google.com/drive/u/0/search?q=Safari - May 17, 2025 at 1:45 PM.pdf\" target=\"_blank\">huntPastebin/general/Safari - May 17, 2025 at 1:45 PM.pdf</a><br>\n",
              "      <div style='background:#f4f4f4;padding:10px;border-radius:4px;margin-top:5px;color:black;'><b>email</b>: notadude@yahoo.com<br><b>password</b>: word</div>\n",
              "    </div>\n",
              "    "
            ]
          },
          "metadata": {}
        },
        {
          "output_type": "display_data",
          "data": {
            "text/plain": [
              "<IPython.core.display.HTML object>"
            ],
            "text/html": [
              "\n",
              "    <div style='margin-bottom:20px; font-size:14px;'>\n",
              "      <b>File:</b> <a href=\"https://drive.google.com/drive/u/0/search?q=Safari - May 17, 2025 at 1:45 PM.pdf\" target=\"_blank\">huntPastebin/general/Safari - May 17, 2025 at 1:45 PM.pdf</a><br>\n",
              "      <div style='background:#f4f4f4;padding:10px;border-radius:4px;margin-top:5px;color:black;'><b>email</b>: notadude@yahoo.com<br><b>password</b>: word</div>\n",
              "    </div>\n",
              "    "
            ]
          },
          "metadata": {}
        },
        {
          "output_type": "display_data",
          "data": {
            "text/plain": [
              "<IPython.core.display.HTML object>"
            ],
            "text/html": [
              "\n",
              "    <div style='margin-bottom:20px; font-size:14px;'>\n",
              "      <b>File:</b> <a href=\"https://drive.google.com/drive/u/0/search?q=Safari - May 17, 2025 at 1:45 PM.pdf\" target=\"_blank\">huntPastebin/general/Safari - May 17, 2025 at 1:45 PM.pdf</a><br>\n",
              "      <div style='background:#f4f4f4;padding:10px;border-radius:4px;margin-top:5px;color:black;'><b>email</b>: notadude@yahoo.com<br><b>password</b>: word</div>\n",
              "    </div>\n",
              "    "
            ]
          },
          "metadata": {}
        },
        {
          "output_type": "display_data",
          "data": {
            "text/plain": [
              "<IPython.core.display.HTML object>"
            ],
            "text/html": [
              "\n",
              "    <div style='margin-bottom:20px; font-size:14px;'>\n",
              "      <b>File:</b> <a href=\"https://drive.google.com/drive/u/0/search?q=Safari - May 17, 2025 at 1:45 PM.pdf\" target=\"_blank\">huntPastebin/general/Safari - May 17, 2025 at 1:45 PM.pdf</a><br>\n",
              "      <div style='background:#f4f4f4;padding:10px;border-radius:4px;margin-top:5px;color:black;'><b>email</b>: notadudeqr@yahoo.con<br><b>password</b>: word</div>\n",
              "    </div>\n",
              "    "
            ]
          },
          "metadata": {}
        },
        {
          "output_type": "display_data",
          "data": {
            "text/plain": [
              "<IPython.core.display.HTML object>"
            ],
            "text/html": [
              "\n",
              "    <div style='margin-bottom:20px; font-size:14px;'>\n",
              "      <b>File:</b> <a href=\"https://drive.google.com/drive/u/0/search?q=Safari - May 17, 2025 at 1:45 PM.pdf\" target=\"_blank\">huntPastebin/general/Safari - May 17, 2025 at 1:45 PM.pdf</a><br>\n",
              "      <div style='background:#f4f4f4;padding:10px;border-radius:4px;margin-top:5px;color:black;'><b>email</b>: notadude@yahoo.com<br><b>username</b>: name</div>\n",
              "    </div>\n",
              "    "
            ]
          },
          "metadata": {}
        },
        {
          "output_type": "display_data",
          "data": {
            "text/plain": [
              "<IPython.core.display.HTML object>"
            ],
            "text/html": [
              "\n",
              "    <div style='margin-bottom:20px; font-size:14px;'>\n",
              "      <b>File:</b> <a href=\"https://drive.google.com/drive/u/0/search?q=Safari - May 17, 2025 at 1:45 PM.pdf\" target=\"_blank\">huntPastebin/general/Safari - May 17, 2025 at 1:45 PM.pdf</a><br>\n",
              "      <div style='background:#f4f4f4;padding:10px;border-radius:4px;margin-top:5px;color:black;'><b>email</b>: notadude@yahoo.com<br><b>username</b>: name</div>\n",
              "    </div>\n",
              "    "
            ]
          },
          "metadata": {}
        },
        {
          "output_type": "stream",
          "name": "stdout",
          "text": [
            "70.176.108.227\n"
          ]
        },
        {
          "output_type": "display_data",
          "data": {
            "text/plain": [
              "<IPython.core.display.HTML object>"
            ],
            "text/html": [
              "\n",
              "    <div style='margin-bottom:20px; font-size:14px;'>\n",
              "      <b>File:</b> <a href=\"https://drive.google.com/drive/u/0/search?q=Safari - May 17, 2025 at 1:45 PM.pdf\" target=\"_blank\">huntPastebin/general/Safari - May 17, 2025 at 1:45 PM.pdf</a><br>\n",
              "      <div style='background:#f4f4f4;padding:10px;border-radius:4px;margin-top:5px;color:black;'><b>email</b>: notadude@yahoo.com<br><b>username</b>: name</div>\n",
              "    </div>\n",
              "    "
            ]
          },
          "metadata": {}
        },
        {
          "output_type": "display_data",
          "data": {
            "text/plain": [
              "<IPython.core.display.HTML object>"
            ],
            "text/html": [
              "\n",
              "    <div style='margin-bottom:20px; font-size:14px;'>\n",
              "      <b>File:</b> <a href=\"https://drive.google.com/drive/u/0/search?q=Safari - May 17, 2025 at 1:45 PM.pdf\" target=\"_blank\">huntPastebin/general/Safari - May 17, 2025 at 1:45 PM.pdf</a><br>\n",
              "      <div style='background:#f4f4f4;padding:10px;border-radius:4px;margin-top:5px;color:black;'><b>email</b>: notadude@yahoo.com<br><b>username</b>: name</div>\n",
              "    </div>\n",
              "    "
            ]
          },
          "metadata": {}
        },
        {
          "output_type": "display_data",
          "data": {
            "text/plain": [
              "<IPython.core.display.HTML object>"
            ],
            "text/html": [
              "\n",
              "    <div style='margin-bottom:20px; font-size:14px;'>\n",
              "      <b>File:</b> <a href=\"https://drive.google.com/drive/u/0/search?q=Safari - May 17, 2025 at 1:45 PM.pdf\" target=\"_blank\">huntPastebin/general/Safari - May 17, 2025 at 1:45 PM.pdf</a><br>\n",
              "      <div style='background:#f4f4f4;padding:10px;border-radius:4px;margin-top:5px;color:black;'><b>email</b>: NoTaDude509@aol.com<br><b>username</b>: name</div>\n",
              "    </div>\n",
              "    "
            ]
          },
          "metadata": {}
        },
        {
          "output_type": "display_data",
          "data": {
            "text/plain": [
              "<IPython.core.display.HTML object>"
            ],
            "text/html": [
              "\n",
              "    <div style='margin-bottom:20px; font-size:14px;'>\n",
              "      <b>File:</b> <a href=\"https://drive.google.com/drive/u/0/search?q=Safari - May 17, 2025 at 1:45 PM.pdf\" target=\"_blank\">huntPastebin/general/Safari - May 17, 2025 at 1:45 PM.pdf</a><br>\n",
              "      <div style='background:#f4f4f4;padding:10px;border-radius:4px;margin-top:5px;color:black;'><b>email</b>: NoTaDude509@aol.com<br><b>username</b>: name</div>\n",
              "    </div>\n",
              "    "
            ]
          },
          "metadata": {}
        },
        {
          "output_type": "display_data",
          "data": {
            "text/plain": [
              "<IPython.core.display.HTML object>"
            ],
            "text/html": [
              "\n",
              "    <div style='margin-bottom:20px; font-size:14px;'>\n",
              "      <b>File:</b> <a href=\"https://drive.google.com/drive/u/0/search?q=Safari - May 17, 2025 at 1:45 PM.pdf\" target=\"_blank\">huntPastebin/general/Safari - May 17, 2025 at 1:45 PM.pdf</a><br>\n",
              "      <div style='background:#f4f4f4;padding:10px;border-radius:4px;margin-top:5px;color:black;'><b>email</b>: notadudefest89@yahoo.co<br><b>username</b>: name</div>\n",
              "    </div>\n",
              "    "
            ]
          },
          "metadata": {}
        },
        {
          "output_type": "display_data",
          "data": {
            "text/plain": [
              "<IPython.core.display.HTML object>"
            ],
            "text/html": [
              "\n",
              "    <div style='margin-bottom:20px; font-size:14px;'>\n",
              "      <b>File:</b> <a href=\"https://drive.google.com/drive/u/0/search?q=Safari - May 17, 2025 at 1:45 PM.pdf\" target=\"_blank\">huntPastebin/general/Safari - May 17, 2025 at 1:45 PM.pdf</a><br>\n",
              "      <div style='background:#f4f4f4;padding:10px;border-radius:4px;margin-top:5px;color:black;'><b>email</b>: notadudefest89@yahoo.co<br><b>username</b>: name</div>\n",
              "    </div>\n",
              "    "
            ]
          },
          "metadata": {}
        },
        {
          "output_type": "display_data",
          "data": {
            "text/plain": [
              "<IPython.core.display.HTML object>"
            ],
            "text/html": [
              "\n",
              "    <div style='margin-bottom:20px; font-size:14px;'>\n",
              "      <b>File:</b> <a href=\"https://drive.google.com/drive/u/0/search?q=Safari - May 17, 2025 at 1:45 PM.pdf\" target=\"_blank\">huntPastebin/general/Safari - May 17, 2025 at 1:45 PM.pdf</a><br>\n",
              "      <div style='background:#f4f4f4;padding:10px;border-radius:4px;margin-top:5px;color:black;'><b>email</b>: notadude360@hotmail.com<br><b>username</b>: name</div>\n",
              "    </div>\n",
              "    "
            ]
          },
          "metadata": {}
        },
        {
          "output_type": "display_data",
          "data": {
            "text/plain": [
              "<IPython.core.display.HTML object>"
            ],
            "text/html": [
              "\n",
              "    <div style='margin-bottom:20px; font-size:14px;'>\n",
              "      <b>File:</b> <a href=\"https://drive.google.com/drive/u/0/search?q=Safari - May 17, 2025 at 1:45 PM.pdf\" target=\"_blank\">huntPastebin/general/Safari - May 17, 2025 at 1:45 PM.pdf</a><br>\n",
              "      <div style='background:#f4f4f4;padding:10px;border-radius:4px;margin-top:5px;color:black;'><b>email</b>: notadude360@hotmail.com<br><b>username</b>: name</div>\n",
              "    </div>\n",
              "    "
            ]
          },
          "metadata": {}
        },
        {
          "output_type": "display_data",
          "data": {
            "text/plain": [
              "<IPython.core.display.HTML object>"
            ],
            "text/html": [
              "\n",
              "    <div style='margin-bottom:20px; font-size:14px;'>\n",
              "      <b>File:</b> <a href=\"https://drive.google.com/drive/u/0/search?q=Safari - May 17, 2025 at 1:45 PM.pdf\" target=\"_blank\">huntPastebin/general/Safari - May 17, 2025 at 1:45 PM.pdf</a><br>\n",
              "      <div style='background:#f4f4f4;padding:10px;border-radius:4px;margin-top:5px;color:black;'><b>email</b>: notadude4@aim.com<br><b>username</b>: name</div>\n",
              "    </div>\n",
              "    "
            ]
          },
          "metadata": {}
        },
        {
          "output_type": "display_data",
          "data": {
            "text/plain": [
              "<IPython.core.display.HTML object>"
            ],
            "text/html": [
              "\n",
              "    <div style='margin-bottom:20px; font-size:14px;'>\n",
              "      <b>File:</b> <a href=\"https://drive.google.com/drive/u/0/search?q=Safari - May 17, 2025 at 1:45 PM.pdf\" target=\"_blank\">huntPastebin/general/Safari - May 17, 2025 at 1:45 PM.pdf</a><br>\n",
              "      <div style='background:#f4f4f4;padding:10px;border-radius:4px;margin-top:5px;color:black;'><b>email</b>: notadude4@aim.com<br><b>username</b>: name</div>\n",
              "    </div>\n",
              "    "
            ]
          },
          "metadata": {}
        },
        {
          "output_type": "display_data",
          "data": {
            "text/plain": [
              "<IPython.core.display.HTML object>"
            ],
            "text/html": [
              "\n",
              "    <div style='margin-bottom:20px; font-size:14px;'>\n",
              "      <b>File:</b> <a href=\"https://drive.google.com/drive/u/0/search?q=Safari - May 17, 2025 at 1:45 PM.pdf\" target=\"_blank\">huntPastebin/general/Safari - May 17, 2025 at 1:45 PM.pdf</a><br>\n",
              "      <div style='background:#f4f4f4;padding:10px;border-radius:4px;margin-top:5px;color:black;'><b>email</b>: notadude77@yahoo.com<br><b>username</b>: name</div>\n",
              "    </div>\n",
              "    "
            ]
          },
          "metadata": {}
        },
        {
          "output_type": "display_data",
          "data": {
            "text/plain": [
              "<IPython.core.display.HTML object>"
            ],
            "text/html": [
              "\n",
              "    <div style='margin-bottom:20px; font-size:14px;'>\n",
              "      <b>File:</b> <a href=\"https://drive.google.com/drive/u/0/search?q=Safari - May 17, 2025 at 1:45 PM.pdf\" target=\"_blank\">huntPastebin/general/Safari - May 17, 2025 at 1:45 PM.pdf</a><br>\n",
              "      <div style='background:#f4f4f4;padding:10px;border-radius:4px;margin-top:5px;color:black;'><b>email</b>: notadude77@yahoo.com<br><b>username</b>: name</div>\n",
              "    </div>\n",
              "    "
            ]
          },
          "metadata": {}
        },
        {
          "output_type": "display_data",
          "data": {
            "text/plain": [
              "<IPython.core.display.HTML object>"
            ],
            "text/html": [
              "\n",
              "    <div style='margin-bottom:20px; font-size:14px;'>\n",
              "      <b>File:</b> <a href=\"https://drive.google.com/drive/u/0/search?q=Safari - May 17, 2025 at 1:45 PM.pdf\" target=\"_blank\">huntPastebin/general/Safari - May 17, 2025 at 1:45 PM.pdf</a><br>\n",
              "      <div style='background:#f4f4f4;padding:10px;border-radius:4px;margin-top:5px;color:black;'><b>email</b>: notadude94@aim.com<br><b>username</b>: name</div>\n",
              "    </div>\n",
              "    "
            ]
          },
          "metadata": {}
        },
        {
          "output_type": "display_data",
          "data": {
            "text/plain": [
              "<IPython.core.display.HTML object>"
            ],
            "text/html": [
              "\n",
              "    <div style='margin-bottom:20px; font-size:14px;'>\n",
              "      <b>File:</b> <a href=\"https://drive.google.com/drive/u/0/search?q=Safari - May 17, 2025 at 1:45 PM.pdf\" target=\"_blank\">huntPastebin/general/Safari - May 17, 2025 at 1:45 PM.pdf</a><br>\n",
              "      <div style='background:#f4f4f4;padding:10px;border-radius:4px;margin-top:5px;color:black;'><b>email</b>: notadude94@aim.com<br><b>username</b>: name</div>\n",
              "    </div>\n",
              "    "
            ]
          },
          "metadata": {}
        },
        {
          "output_type": "display_data",
          "data": {
            "text/plain": [
              "<IPython.core.display.HTML object>"
            ],
            "text/html": [
              "\n",
              "    <div style='margin-bottom:20px; font-size:14px;'>\n",
              "      <b>File:</b> <a href=\"https://drive.google.com/drive/u/0/search?q=Safari - May 17, 2025 at 1:45 PM.pdf\" target=\"_blank\">huntPastebin/general/Safari - May 17, 2025 at 1:45 PM.pdf</a><br>\n",
              "      <div style='background:#f4f4f4;padding:10px;border-radius:4px;margin-top:5px;color:black;'><b>email</b>: NotADude@hotmail.com<br><b>username</b>: name</div>\n",
              "    </div>\n",
              "    "
            ]
          },
          "metadata": {}
        },
        {
          "output_type": "display_data",
          "data": {
            "text/plain": [
              "<IPython.core.display.HTML object>"
            ],
            "text/html": [
              "\n",
              "    <div style='margin-bottom:20px; font-size:14px;'>\n",
              "      <b>File:</b> <a href=\"https://drive.google.com/drive/u/0/search?q=Safari - May 17, 2025 at 1:45 PM.pdf\" target=\"_blank\">huntPastebin/general/Safari - May 17, 2025 at 1:45 PM.pdf</a><br>\n",
              "      <div style='background:#f4f4f4;padding:10px;border-radius:4px;margin-top:5px;color:black;'><b>email</b>: NotADude@hotmail.com<br><b>username</b>: name</div>\n",
              "    </div>\n",
              "    "
            ]
          },
          "metadata": {}
        },
        {
          "output_type": "display_data",
          "data": {
            "text/plain": [
              "<IPython.core.display.HTML object>"
            ],
            "text/html": [
              "\n",
              "    <div style='margin-bottom:20px; font-size:14px;'>\n",
              "      <b>File:</b> <a href=\"https://drive.google.com/drive/u/0/search?q=Safari - May 17, 2025 at 1:45 PM.pdf\" target=\"_blank\">huntPastebin/general/Safari - May 17, 2025 at 1:45 PM.pdf</a><br>\n",
              "      <div style='background:#f4f4f4;padding:10px;border-radius:4px;margin-top:5px;color:black;'><b>email</b>: notadude@myspace.com<br><b>username</b>: name</div>\n",
              "    </div>\n",
              "    "
            ]
          },
          "metadata": {}
        },
        {
          "output_type": "display_data",
          "data": {
            "text/plain": [
              "<IPython.core.display.HTML object>"
            ],
            "text/html": [
              "\n",
              "    <div style='margin-bottom:20px; font-size:14px;'>\n",
              "      <b>File:</b> <a href=\"https://drive.google.com/drive/u/0/search?q=Safari - May 17, 2025 at 1:45 PM.pdf\" target=\"_blank\">huntPastebin/general/Safari - May 17, 2025 at 1:45 PM.pdf</a><br>\n",
              "      <div style='background:#f4f4f4;padding:10px;border-radius:4px;margin-top:5px;color:black;'><b>email</b>: notadude@myspace.com<br><b>username</b>: name</div>\n",
              "    </div>\n",
              "    "
            ]
          },
          "metadata": {}
        },
        {
          "output_type": "display_data",
          "data": {
            "text/plain": [
              "<IPython.core.display.HTML object>"
            ],
            "text/html": [
              "\n",
              "    <div style='margin-bottom:20px; font-size:14px;'>\n",
              "      <b>File:</b> <a href=\"https://drive.google.com/drive/u/0/search?q=Safari - May 17, 2025 at 1:45 PM.pdf\" target=\"_blank\">huntPastebin/general/Safari - May 17, 2025 at 1:45 PM.pdf</a><br>\n",
              "      <div style='background:#f4f4f4;padding:10px;border-radius:4px;margin-top:5px;color:black;'><b>email</b>: notadudexshyeah@yahoo.c<br><b>username</b>: name</div>\n",
              "    </div>\n",
              "    "
            ]
          },
          "metadata": {}
        },
        {
          "output_type": "display_data",
          "data": {
            "text/plain": [
              "<IPython.core.display.HTML object>"
            ],
            "text/html": [
              "\n",
              "    <div style='margin-bottom:20px; font-size:14px;'>\n",
              "      <b>File:</b> <a href=\"https://drive.google.com/drive/u/0/search?q=Safari - May 17, 2025 at 1:45 PM.pdf\" target=\"_blank\">huntPastebin/general/Safari - May 17, 2025 at 1:45 PM.pdf</a><br>\n",
              "      <div style='background:#f4f4f4;padding:10px;border-radius:4px;margin-top:5px;color:black;'><b>email</b>: notadudexshyeah@yahoo.c<br><b>username</b>: name</div>\n",
              "    </div>\n",
              "    "
            ]
          },
          "metadata": {}
        },
        {
          "output_type": "stream",
          "name": "stdout",
          "text": [
            "scanning Safari - May 17, 2025 at 10:58 AM.pdf\n",
            "scanning Safari - May 17, 2025 at 12:18 PM.pdf\n",
            "216.187.109.165\n",
            "216.187.109.165\n",
            "216.187.109.165\n",
            "216.187.109.165\n",
            "216.187.109.165\n",
            "216.187.109.165\n",
            "216.187.109.165\n",
            "216.187.109.165\n",
            "216.187.109.165\n",
            "216.187.109.165\n",
            "216.187.109.165\n",
            "216.187.109.165\n",
            "216.187.109.165\n",
            "216.187.109.165\n",
            "216.187.109.165\n",
            "216.187.109.165\n",
            "216.187.109.165\n",
            "216.187.109.165\n",
            "216.187.109.165\n",
            "216.187.109.165\n",
            "216.187.109.165\n",
            "216.187.109.165\n",
            "216.187.109.165\n",
            "216.187.109.165\n",
            "216.187.109.165\n",
            "216.187.109.165\n",
            "216.187.109.165\n",
            "216.187.109.165\n",
            "216.187.109.165\n",
            "216.187.109.165\n",
            "216.187.109.165\n",
            "216.187.109.165\n",
            "216.187.109.165\n",
            "216.187.109.165\n",
            "216.187.109.165\n",
            "216.187.109.165\n",
            "216.187.109.165\n",
            "216.187.109.165\n",
            "216.187.109.165\n",
            "scanning Safari - May 17, 2025 at 11:56 AM.pdf\n",
            "82.67.172.174\n",
            "82.67.172.174\n",
            "82.67.172.174\n",
            "scanning Safari - May 17, 2025 at 1:47 PM 2.pdf\n",
            "188.72.127.59\n",
            "178.57.65.75\n",
            "115.87.196.243\n",
            "115.87.247.143\n",
            "59.173.20.190\n",
            "scanning Safari - May 17, 2025 at 12:09 PM.pdf\n",
            "scanning Safari - May 17, 2025 at 11:02 AM.pdf\n",
            "38.114.201.11\n",
            "scanning Safari - May 17, 2025 at 1:37 PM.pdf\n",
            "64.134.223.40\n",
            "64.134.223.40\n",
            "220.231.124.5\n",
            "122.148.211.91\n",
            "95.66.166.51\n",
            "188.120.183.15\n",
            "218.75.208.139\n",
            "172.162.71.219\n",
            "82.209.161.84\n",
            "82.209.161.84\n",
            "220.136.186.124\n",
            "104.137.66.132\n",
            "222.252.97.107\n",
            "113.23.41.38\n",
            "69.22.169.79\n",
            "67.181.180.174\n",
            "93.84.140.122\n",
            "119.103.222.177\n",
            "172.21.16.114\n",
            "scanning Safari - May 17, 2025 at 11:56 AM 2.pdf\n",
            "80.57.38.28\n",
            "71.251.128.222\n",
            "83.142.103.52\n",
            "scanning Safari - May 17, 2025 at 1:43 PM.pdf\n",
            "188.190.212.57\n",
            "46.211.36.84\n",
            "46.39.54.66\n",
            "scanning Safari - May 17, 2025 at 11:54 AM.pdf\n",
            "scanning Safari - May 17, 2025 at 11:03 AM.pdf\n",
            "70.112.250.169\n",
            "70.253.65.156\n",
            "70.253.92.142\n",
            "207.71.142.93\n",
            "70.253.92.142\n",
            "70.253.65.156\n",
            "70.112.250.169\n",
            "scanning Safari - May 17, 2025 at 12:17 PM.pdf\n",
            "216.187.109.165\n",
            "216.187.109.165\n",
            "216.187.109.165\n",
            "216.187.109.165\n",
            "216.187.109.165\n",
            "216.187.109.165\n",
            "216.187.109.165\n",
            "216.187.109.165\n",
            "216.187.109.165\n",
            "216.187.109.165\n",
            "216.187.109.165\n",
            "216.187.109.165\n",
            "216.187.109.165\n",
            "216.187.109.165\n",
            "216.187.109.165\n",
            "216.187.109.165\n",
            "216.187.109.165\n",
            "216.187.109.165\n",
            "216.187.109.165\n",
            "216.187.109.165\n",
            "216.187.109.165\n",
            "216.187.109.165\n",
            "216.187.109.165\n",
            "216.187.109.165\n",
            "216.187.109.165\n",
            "216.187.109.165\n",
            "216.187.109.165\n",
            "216.187.109.165\n",
            "216.187.109.165\n",
            "216.187.109.165\n",
            "216.187.109.165\n",
            "216.187.109.165\n",
            "216.187.109.165\n",
            "216.187.109.165\n",
            "216.187.109.165\n",
            "216.187.109.165\n",
            "216.187.109.165\n",
            "216.187.109.165\n",
            "216.187.109.165\n",
            "scanning Safari - May 17, 2025 at 10:55 AM.pdf\n",
            "100.33.167.99\n",
            "66.87.218.60\n",
            "141.158.133.109\n",
            "172.16.51.33\n",
            "203.218.178.244\n",
            "97.95.157.48\n",
            "24.19.15.48\n",
            "75.72.136.195\n",
            "72.211.176.44\n",
            "72.199.225.49\n",
            "24.250.15.109\n",
            "69.59.66.128\n",
            "209.193.65.56\n",
            "74.100.31.130\n",
            "68.59.91.96\n",
            "68.59.91.96\n",
            "82.2.175.0\n",
            "68.192.161.251\n",
            "70.178.182.180\n",
            "65.95.234.215\n",
            "68.58.74.87\n",
            "69.69.21.110\n",
            "scanning Safari - May 17, 2025 at 1:47 PM.pdf\n",
            "186.66.60.245\n"
          ]
        },
        {
          "output_type": "display_data",
          "data": {
            "text/plain": [
              "<IPython.core.display.HTML object>"
            ],
            "text/html": [
              "\n",
              "    <div style='margin-bottom:20px; font-size:14px;'>\n",
              "      <b>File:</b> <a href=\"https://drive.google.com/drive/u/0/search?q=Safari - May 17, 2025 at 1:47 PM.pdf\" target=\"_blank\">huntPastebin/general/Safari - May 17, 2025 at 1:47 PM.pdf</a><br>\n",
              "      <div style='background:#f4f4f4;padding:10px;border-radius:4px;margin-top:5px;color:black;'><b>email</b>: wrack@rediffmail.comn<br><b>username</b>: name</div>\n",
              "    </div>\n",
              "    "
            ]
          },
          "metadata": {}
        },
        {
          "output_type": "display_data",
          "data": {
            "text/plain": [
              "<IPython.core.display.HTML object>"
            ],
            "text/html": [
              "\n",
              "    <div style='margin-bottom:20px; font-size:14px;'>\n",
              "      <b>File:</b> <a href=\"https://drive.google.com/drive/u/0/search?q=Safari - May 17, 2025 at 1:47 PM.pdf\" target=\"_blank\">huntPastebin/general/Safari - May 17, 2025 at 1:47 PM.pdf</a><br>\n",
              "      <div style='background:#f4f4f4;padding:10px;border-radius:4px;margin-top:5px;color:black;'><b>email</b>: wrack@rediffmail.comn<br><b>username</b>: name</div>\n",
              "    </div>\n",
              "    "
            ]
          },
          "metadata": {}
        },
        {
          "output_type": "display_data",
          "data": {
            "text/plain": [
              "<IPython.core.display.HTML object>"
            ],
            "text/html": [
              "\n",
              "    <div style='margin-bottom:20px; font-size:14px;'>\n",
              "      <b>File:</b> <a href=\"https://drive.google.com/drive/u/0/search?q=Safari - May 17, 2025 at 1:47 PM.pdf\" target=\"_blank\">huntPastebin/general/Safari - May 17, 2025 at 1:47 PM.pdf</a><br>\n",
              "      <div style='background:#f4f4f4;padding:10px;border-radius:4px;margin-top:5px;color:black;'><b>email</b>: wrack@rediffmail.comn<br><b>password</b>: word</div>\n",
              "    </div>\n",
              "    "
            ]
          },
          "metadata": {}
        },
        {
          "output_type": "display_data",
          "data": {
            "text/plain": [
              "<IPython.core.display.HTML object>"
            ],
            "text/html": [
              "\n",
              "    <div style='margin-bottom:20px; font-size:14px;'>\n",
              "      <b>File:</b> <a href=\"https://drive.google.com/drive/u/0/search?q=Safari - May 17, 2025 at 1:47 PM.pdf\" target=\"_blank\">huntPastebin/general/Safari - May 17, 2025 at 1:47 PM.pdf</a><br>\n",
              "      <div style='background:#f4f4f4;padding:10px;border-radius:4px;margin-top:5px;color:black;'><b>email</b>: wrack@rediffmail.comn<br><b>password</b>: word</div>\n",
              "    </div>\n",
              "    "
            ]
          },
          "metadata": {}
        },
        {
          "output_type": "display_data",
          "data": {
            "text/plain": [
              "<IPython.core.display.HTML object>"
            ],
            "text/html": [
              "\n",
              "    <div style='margin-bottom:20px; font-size:14px;'>\n",
              "      <b>File:</b> <a href=\"https://drive.google.com/drive/u/0/search?q=Safari - May 17, 2025 at 1:47 PM.pdf\" target=\"_blank\">huntPastebin/general/Safari - May 17, 2025 at 1:47 PM.pdf</a><br>\n",
              "      <div style='background:#f4f4f4;padding:10px;border-radius:4px;margin-top:5px;color:black;'><b>email</b>: wrack@rediffmail.comn<br><b>password</b>: word</div>\n",
              "    </div>\n",
              "    "
            ]
          },
          "metadata": {}
        },
        {
          "output_type": "stream",
          "name": "stdout",
          "text": [
            "119.247.168.64\n"
          ]
        },
        {
          "output_type": "display_data",
          "data": {
            "text/plain": [
              "<IPython.core.display.HTML object>"
            ],
            "text/html": [
              "\n",
              "    <div style='margin-bottom:20px; font-size:14px;'>\n",
              "      <b>File:</b> <a href=\"https://drive.google.com/drive/u/0/search?q=Safari - May 17, 2025 at 1:47 PM.pdf\" target=\"_blank\">huntPastebin/general/Safari - May 17, 2025 at 1:47 PM.pdf</a><br>\n",
              "      <div style='background:#f4f4f4;padding:10px;border-radius:4px;margin-top:5px;color:black;'><b>email</b>: wrack@sinaman.com<br><b>username</b>: name</div>\n",
              "    </div>\n",
              "    "
            ]
          },
          "metadata": {}
        },
        {
          "output_type": "display_data",
          "data": {
            "text/plain": [
              "<IPython.core.display.HTML object>"
            ],
            "text/html": [
              "\n",
              "    <div style='margin-bottom:20px; font-size:14px;'>\n",
              "      <b>File:</b> <a href=\"https://drive.google.com/drive/u/0/search?q=Safari - May 17, 2025 at 1:47 PM.pdf\" target=\"_blank\">huntPastebin/general/Safari - May 17, 2025 at 1:47 PM.pdf</a><br>\n",
              "      <div style='background:#f4f4f4;padding:10px;border-radius:4px;margin-top:5px;color:black;'><b>email</b>: wrack@sinaman.com<br><b>username</b>: name</div>\n",
              "    </div>\n",
              "    "
            ]
          },
          "metadata": {}
        },
        {
          "output_type": "display_data",
          "data": {
            "text/plain": [
              "<IPython.core.display.HTML object>"
            ],
            "text/html": [
              "\n",
              "    <div style='margin-bottom:20px; font-size:14px;'>\n",
              "      <b>File:</b> <a href=\"https://drive.google.com/drive/u/0/search?q=Safari - May 17, 2025 at 1:47 PM.pdf\" target=\"_blank\">huntPastebin/general/Safari - May 17, 2025 at 1:47 PM.pdf</a><br>\n",
              "      <div style='background:#f4f4f4;padding:10px;border-radius:4px;margin-top:5px;color:black;'><b>email</b>: wrack@sinaman.com<br><b>password</b>: word</div>\n",
              "    </div>\n",
              "    "
            ]
          },
          "metadata": {}
        },
        {
          "output_type": "display_data",
          "data": {
            "text/plain": [
              "<IPython.core.display.HTML object>"
            ],
            "text/html": [
              "\n",
              "    <div style='margin-bottom:20px; font-size:14px;'>\n",
              "      <b>File:</b> <a href=\"https://drive.google.com/drive/u/0/search?q=Safari - May 17, 2025 at 1:47 PM.pdf\" target=\"_blank\">huntPastebin/general/Safari - May 17, 2025 at 1:47 PM.pdf</a><br>\n",
              "      <div style='background:#f4f4f4;padding:10px;border-radius:4px;margin-top:5px;color:black;'><b>email</b>: wrack@sinaman.com<br><b>password</b>: word</div>\n",
              "    </div>\n",
              "    "
            ]
          },
          "metadata": {}
        },
        {
          "output_type": "display_data",
          "data": {
            "text/plain": [
              "<IPython.core.display.HTML object>"
            ],
            "text/html": [
              "\n",
              "    <div style='margin-bottom:20px; font-size:14px;'>\n",
              "      <b>File:</b> <a href=\"https://drive.google.com/drive/u/0/search?q=Safari - May 17, 2025 at 1:47 PM.pdf\" target=\"_blank\">huntPastebin/general/Safari - May 17, 2025 at 1:47 PM.pdf</a><br>\n",
              "      <div style='background:#f4f4f4;padding:10px;border-radius:4px;margin-top:5px;color:black;'><b>email</b>: wrack@sinaman.com<br><b>password</b>: word</div>\n",
              "    </div>\n",
              "    "
            ]
          },
          "metadata": {}
        },
        {
          "output_type": "stream",
          "name": "stdout",
          "text": [
            "77.29.178.222\n",
            "77.29.178.222\n",
            "99.39.152.248\n",
            "108.162.230.40\n",
            "24.144.35.230\n"
          ]
        },
        {
          "output_type": "display_data",
          "data": {
            "text/plain": [
              "<IPython.core.display.HTML object>"
            ],
            "text/html": [
              "\n",
              "    <div style='margin-bottom:20px; font-size:14px;'>\n",
              "      <b>File:</b> <a href=\"https://drive.google.com/drive/u/0/search?q=Safari - May 17, 2025 at 1:47 PM.pdf\" target=\"_blank\">huntPastebin/general/Safari - May 17, 2025 at 1:47 PM.pdf</a><br>\n",
              "      <div style='background:#f4f4f4;padding:10px;border-radius:4px;margin-top:5px;color:black;'><b>email</b>: kllackeo@yahoo.com<br><b>username</b>: name</div>\n",
              "    </div>\n",
              "    "
            ]
          },
          "metadata": {}
        },
        {
          "output_type": "display_data",
          "data": {
            "text/plain": [
              "<IPython.core.display.HTML object>"
            ],
            "text/html": [
              "\n",
              "    <div style='margin-bottom:20px; font-size:14px;'>\n",
              "      <b>File:</b> <a href=\"https://drive.google.com/drive/u/0/search?q=Safari - May 17, 2025 at 1:47 PM.pdf\" target=\"_blank\">huntPastebin/general/Safari - May 17, 2025 at 1:47 PM.pdf</a><br>\n",
              "      <div style='background:#f4f4f4;padding:10px;border-radius:4px;margin-top:5px;color:black;'><b>email</b>: kllackeo@yahoo.com<br><b>username</b>: name</div>\n",
              "    </div>\n",
              "    "
            ]
          },
          "metadata": {}
        },
        {
          "output_type": "display_data",
          "data": {
            "text/plain": [
              "<IPython.core.display.HTML object>"
            ],
            "text/html": [
              "\n",
              "    <div style='margin-bottom:20px; font-size:14px;'>\n",
              "      <b>File:</b> <a href=\"https://drive.google.com/drive/u/0/search?q=Safari - May 17, 2025 at 1:47 PM.pdf\" target=\"_blank\">huntPastebin/general/Safari - May 17, 2025 at 1:47 PM.pdf</a><br>\n",
              "      <div style='background:#f4f4f4;padding:10px;border-radius:4px;margin-top:5px;color:black;'><b>email</b>: kllackeo@yahoo.com<br><b>password</b>: word</div>\n",
              "    </div>\n",
              "    "
            ]
          },
          "metadata": {}
        },
        {
          "output_type": "display_data",
          "data": {
            "text/plain": [
              "<IPython.core.display.HTML object>"
            ],
            "text/html": [
              "\n",
              "    <div style='margin-bottom:20px; font-size:14px;'>\n",
              "      <b>File:</b> <a href=\"https://drive.google.com/drive/u/0/search?q=Safari - May 17, 2025 at 1:47 PM.pdf\" target=\"_blank\">huntPastebin/general/Safari - May 17, 2025 at 1:47 PM.pdf</a><br>\n",
              "      <div style='background:#f4f4f4;padding:10px;border-radius:4px;margin-top:5px;color:black;'><b>email</b>: kllackeo@yahoo.com<br><b>password</b>: word</div>\n",
              "    </div>\n",
              "    "
            ]
          },
          "metadata": {}
        },
        {
          "output_type": "display_data",
          "data": {
            "text/plain": [
              "<IPython.core.display.HTML object>"
            ],
            "text/html": [
              "\n",
              "    <div style='margin-bottom:20px; font-size:14px;'>\n",
              "      <b>File:</b> <a href=\"https://drive.google.com/drive/u/0/search?q=Safari - May 17, 2025 at 1:47 PM.pdf\" target=\"_blank\">huntPastebin/general/Safari - May 17, 2025 at 1:47 PM.pdf</a><br>\n",
              "      <div style='background:#f4f4f4;padding:10px;border-radius:4px;margin-top:5px;color:black;'><b>email</b>: kllackeo@yahoo.com<br><b>username</b>: name<br><b>password</b>: word</div>\n",
              "    </div>\n",
              "    "
            ]
          },
          "metadata": {}
        },
        {
          "output_type": "stream",
          "name": "stdout",
          "text": [
            "125.18.169.50\n",
            "80.192.65.74\n",
            "89.162.153.8\n",
            "89.162.153.8\n",
            "67.177.82.157\n"
          ]
        },
        {
          "output_type": "display_data",
          "data": {
            "text/plain": [
              "<IPython.core.display.HTML object>"
            ],
            "text/html": [
              "\n",
              "    <div style='margin-bottom:20px; font-size:14px;'>\n",
              "      <b>File:</b> <a href=\"https://drive.google.com/drive/u/0/search?q=Safari - May 17, 2025 at 1:47 PM.pdf\" target=\"_blank\">huntPastebin/general/Safari - May 17, 2025 at 1:47 PM.pdf</a><br>\n",
              "      <div style='background:#f4f4f4;padding:10px;border-radius:4px;margin-top:5px;color:black;'><b>email</b>: kllackeo@yahoo.com<br><b>username</b>: name</div>\n",
              "    </div>\n",
              "    "
            ]
          },
          "metadata": {}
        },
        {
          "output_type": "display_data",
          "data": {
            "text/plain": [
              "<IPython.core.display.HTML object>"
            ],
            "text/html": [
              "\n",
              "    <div style='margin-bottom:20px; font-size:14px;'>\n",
              "      <b>File:</b> <a href=\"https://drive.google.com/drive/u/0/search?q=Safari - May 17, 2025 at 1:47 PM.pdf\" target=\"_blank\">huntPastebin/general/Safari - May 17, 2025 at 1:47 PM.pdf</a><br>\n",
              "      <div style='background:#f4f4f4;padding:10px;border-radius:4px;margin-top:5px;color:black;'><b>email</b>: kllackeo@yahoo.com<br><b>username</b>: name</div>\n",
              "    </div>\n",
              "    "
            ]
          },
          "metadata": {}
        },
        {
          "output_type": "display_data",
          "data": {
            "text/plain": [
              "<IPython.core.display.HTML object>"
            ],
            "text/html": [
              "\n",
              "    <div style='margin-bottom:20px; font-size:14px;'>\n",
              "      <b>File:</b> <a href=\"https://drive.google.com/drive/u/0/search?q=Safari - May 17, 2025 at 1:47 PM.pdf\" target=\"_blank\">huntPastebin/general/Safari - May 17, 2025 at 1:47 PM.pdf</a><br>\n",
              "      <div style='background:#f4f4f4;padding:10px;border-radius:4px;margin-top:5px;color:black;'><b>email</b>: kllackeo@yahoo.com<br><b>password</b>: word</div>\n",
              "    </div>\n",
              "    "
            ]
          },
          "metadata": {}
        },
        {
          "output_type": "display_data",
          "data": {
            "text/plain": [
              "<IPython.core.display.HTML object>"
            ],
            "text/html": [
              "\n",
              "    <div style='margin-bottom:20px; font-size:14px;'>\n",
              "      <b>File:</b> <a href=\"https://drive.google.com/drive/u/0/search?q=Safari - May 17, 2025 at 1:47 PM.pdf\" target=\"_blank\">huntPastebin/general/Safari - May 17, 2025 at 1:47 PM.pdf</a><br>\n",
              "      <div style='background:#f4f4f4;padding:10px;border-radius:4px;margin-top:5px;color:black;'><b>email</b>: kllackeo@yahoo.com<br><b>password</b>: word</div>\n",
              "    </div>\n",
              "    "
            ]
          },
          "metadata": {}
        },
        {
          "output_type": "display_data",
          "data": {
            "text/plain": [
              "<IPython.core.display.HTML object>"
            ],
            "text/html": [
              "\n",
              "    <div style='margin-bottom:20px; font-size:14px;'>\n",
              "      <b>File:</b> <a href=\"https://drive.google.com/drive/u/0/search?q=Safari - May 17, 2025 at 1:47 PM.pdf\" target=\"_blank\">huntPastebin/general/Safari - May 17, 2025 at 1:47 PM.pdf</a><br>\n",
              "      <div style='background:#f4f4f4;padding:10px;border-radius:4px;margin-top:5px;color:black;'><b>email</b>: kllackeo@yahoo.com<br><b>password</b>: word</div>\n",
              "    </div>\n",
              "    "
            ]
          },
          "metadata": {}
        },
        {
          "output_type": "stream",
          "name": "stdout",
          "text": [
            "27.17.3.74\n"
          ]
        },
        {
          "output_type": "display_data",
          "data": {
            "text/plain": [
              "<IPython.core.display.HTML object>"
            ],
            "text/html": [
              "\n",
              "    <div style='margin-bottom:20px; font-size:14px;'>\n",
              "      <b>File:</b> <a href=\"https://drive.google.com/drive/u/0/search?q=Safari - May 17, 2025 at 1:47 PM.pdf\" target=\"_blank\">huntPastebin/general/Safari - May 17, 2025 at 1:47 PM.pdf</a><br>\n",
              "      <div style='background:#f4f4f4;padding:10px;border-radius:4px;margin-top:5px;color:black;'><b>email</b>: wrack@126.com<br><b>username</b>: name</div>\n",
              "    </div>\n",
              "    "
            ]
          },
          "metadata": {}
        },
        {
          "output_type": "display_data",
          "data": {
            "text/plain": [
              "<IPython.core.display.HTML object>"
            ],
            "text/html": [
              "\n",
              "    <div style='margin-bottom:20px; font-size:14px;'>\n",
              "      <b>File:</b> <a href=\"https://drive.google.com/drive/u/0/search?q=Safari - May 17, 2025 at 1:47 PM.pdf\" target=\"_blank\">huntPastebin/general/Safari - May 17, 2025 at 1:47 PM.pdf</a><br>\n",
              "      <div style='background:#f4f4f4;padding:10px;border-radius:4px;margin-top:5px;color:black;'><b>email</b>: wrack@126.com<br><b>username</b>: name</div>\n",
              "    </div>\n",
              "    "
            ]
          },
          "metadata": {}
        },
        {
          "output_type": "display_data",
          "data": {
            "text/plain": [
              "<IPython.core.display.HTML object>"
            ],
            "text/html": [
              "\n",
              "    <div style='margin-bottom:20px; font-size:14px;'>\n",
              "      <b>File:</b> <a href=\"https://drive.google.com/drive/u/0/search?q=Safari - May 17, 2025 at 1:47 PM.pdf\" target=\"_blank\">huntPastebin/general/Safari - May 17, 2025 at 1:47 PM.pdf</a><br>\n",
              "      <div style='background:#f4f4f4;padding:10px;border-radius:4px;margin-top:5px;color:black;'><b>email</b>: wrack@126.com<br><b>password</b>: word</div>\n",
              "    </div>\n",
              "    "
            ]
          },
          "metadata": {}
        },
        {
          "output_type": "display_data",
          "data": {
            "text/plain": [
              "<IPython.core.display.HTML object>"
            ],
            "text/html": [
              "\n",
              "    <div style='margin-bottom:20px; font-size:14px;'>\n",
              "      <b>File:</b> <a href=\"https://drive.google.com/drive/u/0/search?q=Safari - May 17, 2025 at 1:47 PM.pdf\" target=\"_blank\">huntPastebin/general/Safari - May 17, 2025 at 1:47 PM.pdf</a><br>\n",
              "      <div style='background:#f4f4f4;padding:10px;border-radius:4px;margin-top:5px;color:black;'><b>email</b>: wrack@126.com<br><b>password</b>: word</div>\n",
              "    </div>\n",
              "    "
            ]
          },
          "metadata": {}
        },
        {
          "output_type": "display_data",
          "data": {
            "text/plain": [
              "<IPython.core.display.HTML object>"
            ],
            "text/html": [
              "\n",
              "    <div style='margin-bottom:20px; font-size:14px;'>\n",
              "      <b>File:</b> <a href=\"https://drive.google.com/drive/u/0/search?q=Safari - May 17, 2025 at 1:47 PM.pdf\" target=\"_blank\">huntPastebin/general/Safari - May 17, 2025 at 1:47 PM.pdf</a><br>\n",
              "      <div style='background:#f4f4f4;padding:10px;border-radius:4px;margin-top:5px;color:black;'><b>email</b>: wrack@126.com<br><b>username</b>: name<br><b>password</b>: word</div>\n",
              "    </div>\n",
              "    "
            ]
          },
          "metadata": {}
        },
        {
          "output_type": "stream",
          "name": "stdout",
          "text": [
            "84.147.125.254\n"
          ]
        },
        {
          "output_type": "display_data",
          "data": {
            "text/plain": [
              "<IPython.core.display.HTML object>"
            ],
            "text/html": [
              "\n",
              "    <div style='margin-bottom:20px; font-size:14px;'>\n",
              "      <b>File:</b> <a href=\"https://drive.google.com/drive/u/0/search?q=Safari - May 17, 2025 at 1:47 PM.pdf\" target=\"_blank\">huntPastebin/general/Safari - May 17, 2025 at 1:47 PM.pdf</a><br>\n",
              "      <div style='background:#f4f4f4;padding:10px;border-radius:4px;margin-top:5px;color:black;'><b>email</b>: wrack@trash-mail.com<br><b>username</b>: name</div>\n",
              "    </div>\n",
              "    "
            ]
          },
          "metadata": {}
        },
        {
          "output_type": "display_data",
          "data": {
            "text/plain": [
              "<IPython.core.display.HTML object>"
            ],
            "text/html": [
              "\n",
              "    <div style='margin-bottom:20px; font-size:14px;'>\n",
              "      <b>File:</b> <a href=\"https://drive.google.com/drive/u/0/search?q=Safari - May 17, 2025 at 1:47 PM.pdf\" target=\"_blank\">huntPastebin/general/Safari - May 17, 2025 at 1:47 PM.pdf</a><br>\n",
              "      <div style='background:#f4f4f4;padding:10px;border-radius:4px;margin-top:5px;color:black;'><b>email</b>: wrack@trash-mail.com<br><b>username</b>: name</div>\n",
              "    </div>\n",
              "    "
            ]
          },
          "metadata": {}
        },
        {
          "output_type": "display_data",
          "data": {
            "text/plain": [
              "<IPython.core.display.HTML object>"
            ],
            "text/html": [
              "\n",
              "    <div style='margin-bottom:20px; font-size:14px;'>\n",
              "      <b>File:</b> <a href=\"https://drive.google.com/drive/u/0/search?q=Safari - May 17, 2025 at 1:47 PM.pdf\" target=\"_blank\">huntPastebin/general/Safari - May 17, 2025 at 1:47 PM.pdf</a><br>\n",
              "      <div style='background:#f4f4f4;padding:10px;border-radius:4px;margin-top:5px;color:black;'><b>email</b>: wrack@trash-mail.com<br><b>password</b>: word</div>\n",
              "    </div>\n",
              "    "
            ]
          },
          "metadata": {}
        },
        {
          "output_type": "display_data",
          "data": {
            "text/plain": [
              "<IPython.core.display.HTML object>"
            ],
            "text/html": [
              "\n",
              "    <div style='margin-bottom:20px; font-size:14px;'>\n",
              "      <b>File:</b> <a href=\"https://drive.google.com/drive/u/0/search?q=Safari - May 17, 2025 at 1:47 PM.pdf\" target=\"_blank\">huntPastebin/general/Safari - May 17, 2025 at 1:47 PM.pdf</a><br>\n",
              "      <div style='background:#f4f4f4;padding:10px;border-radius:4px;margin-top:5px;color:black;'><b>email</b>: wrack@trash-mail.com<br><b>password</b>: word</div>\n",
              "    </div>\n",
              "    "
            ]
          },
          "metadata": {}
        },
        {
          "output_type": "display_data",
          "data": {
            "text/plain": [
              "<IPython.core.display.HTML object>"
            ],
            "text/html": [
              "\n",
              "    <div style='margin-bottom:20px; font-size:14px;'>\n",
              "      <b>File:</b> <a href=\"https://drive.google.com/drive/u/0/search?q=Safari - May 17, 2025 at 1:47 PM.pdf\" target=\"_blank\">huntPastebin/general/Safari - May 17, 2025 at 1:47 PM.pdf</a><br>\n",
              "      <div style='background:#f4f4f4;padding:10px;border-radius:4px;margin-top:5px;color:black;'><b>email</b>: wrack@trash-mail.com<br><b>password</b>: word</div>\n",
              "    </div>\n",
              "    "
            ]
          },
          "metadata": {}
        },
        {
          "output_type": "stream",
          "name": "stdout",
          "text": [
            "89.154.86.84\n",
            "189.34.34.245\n",
            "2.231.120.125\n",
            "89.162.153.8\n"
          ]
        },
        {
          "output_type": "display_data",
          "data": {
            "text/plain": [
              "<IPython.core.display.HTML object>"
            ],
            "text/html": [
              "\n",
              "    <div style='margin-bottom:20px; font-size:14px;'>\n",
              "      <b>File:</b> <a href=\"https://drive.google.com/drive/u/0/search?q=Safari - May 17, 2025 at 1:47 PM.pdf\" target=\"_blank\">huntPastebin/general/Safari - May 17, 2025 at 1:47 PM.pdf</a><br>\n",
              "      <div style='background:#f4f4f4;padding:10px;border-radius:4px;margin-top:5px;color:black;'><b>email</b>: wrackrsa@wp.pl<br><b>username</b>: name</div>\n",
              "    </div>\n",
              "    "
            ]
          },
          "metadata": {}
        },
        {
          "output_type": "display_data",
          "data": {
            "text/plain": [
              "<IPython.core.display.HTML object>"
            ],
            "text/html": [
              "\n",
              "    <div style='margin-bottom:20px; font-size:14px;'>\n",
              "      <b>File:</b> <a href=\"https://drive.google.com/drive/u/0/search?q=Safari - May 17, 2025 at 1:47 PM.pdf\" target=\"_blank\">huntPastebin/general/Safari - May 17, 2025 at 1:47 PM.pdf</a><br>\n",
              "      <div style='background:#f4f4f4;padding:10px;border-radius:4px;margin-top:5px;color:black;'><b>email</b>: wrackrsa@wp.pl<br><b>username</b>: name</div>\n",
              "    </div>\n",
              "    "
            ]
          },
          "metadata": {}
        },
        {
          "output_type": "stream",
          "name": "stdout",
          "text": [
            "83.142.174.62\n",
            "68.147.164.120\n",
            "68.147.164.120\n",
            "125.18.169.50\n",
            "191.177.186.172\n",
            "84.25.35.140\n",
            "84.25.35.140\n",
            "141.101.98.28\n",
            "68.196.79.184\n"
          ]
        },
        {
          "output_type": "display_data",
          "data": {
            "text/plain": [
              "<IPython.core.display.HTML object>"
            ],
            "text/html": [
              "\n",
              "    <div style='margin-bottom:20px; font-size:14px;'>\n",
              "      <b>File:</b> <a href=\"https://drive.google.com/drive/u/0/search?q=Safari - May 17, 2025 at 1:47 PM.pdf\" target=\"_blank\">huntPastebin/general/Safari - May 17, 2025 at 1:47 PM.pdf</a><br>\n",
              "      <div style='background:#f4f4f4;padding:10px;border-radius:4px;margin-top:5px;color:black;'><b>email</b>: kllackeo@yahoo.com<br><b>username</b>: name</div>\n",
              "    </div>\n",
              "    "
            ]
          },
          "metadata": {}
        },
        {
          "output_type": "display_data",
          "data": {
            "text/plain": [
              "<IPython.core.display.HTML object>"
            ],
            "text/html": [
              "\n",
              "    <div style='margin-bottom:20px; font-size:14px;'>\n",
              "      <b>File:</b> <a href=\"https://drive.google.com/drive/u/0/search?q=Safari - May 17, 2025 at 1:47 PM.pdf\" target=\"_blank\">huntPastebin/general/Safari - May 17, 2025 at 1:47 PM.pdf</a><br>\n",
              "      <div style='background:#f4f4f4;padding:10px;border-radius:4px;margin-top:5px;color:black;'><b>email</b>: kllackeo@yahoo.com<br><b>username</b>: name</div>\n",
              "    </div>\n",
              "    "
            ]
          },
          "metadata": {}
        },
        {
          "output_type": "stream",
          "name": "stdout",
          "text": [
            "scanning Safari - May 17, 2025 at 1:41 PM.pdf\n",
            "93.84.140.122\n",
            "24.113.101.73\n",
            "130.49.66.136\n",
            "210.242.215.232\n",
            "scanning Safari - May 17, 2025 at 12:11 PM.pdf\n",
            "217.252.116.98\n",
            "70.101.29.215\n",
            "217.210.178.192\n",
            "scanning Safari - May 17, 2025 at 11:52 AM.pdf\n",
            "109.97.160.217\n",
            "71.96.51.211\n",
            "65.70.11.112\n",
            "75.172.111.155\n",
            "71.252.201.229\n",
            "71.206.202.58\n",
            "98.237.158.106\n",
            "75.172.102.181\n",
            "218.186.8.232\n",
            "152.20.180.58\n",
            "65.1.238.213\n",
            "74.204.73.231\n",
            "71.88.32.132\n",
            "68.191.43.252\n",
            "scanning Safari - May 17, 2025 at 1:19 PM.pdf\n",
            "204.14.219.127\n",
            "204.79.155.18\n",
            "scanning Safari - May 17, 2025 at 1:35 PM.pdf\n",
            "64.134.223.40\n",
            "64.134.223.40\n",
            "220.231.124.5\n",
            "122.148.211.91\n",
            "95.66.166.51\n",
            "188.120.183.15\n",
            "218.75.208.139\n",
            "172.162.71.219\n",
            "82.209.161.84\n",
            "82.209.161.84\n",
            "220.136.186.124\n",
            "104.137.66.132\n",
            "222.252.97.107\n",
            "113.23.41.38\n",
            "69.22.169.79\n",
            "67.181.180.174\n",
            "93.84.140.122\n",
            "119.103.222.177\n",
            "172.21.16.114\n",
            "scanning Safari - May 17, 2025 at 11:58 AM.pdf\n",
            "80.57.38.28\n",
            "71.251.128.222\n",
            "83.142.103.52\n",
            "Scan complete. Logs appended to root folder.\n"
          ]
        }
      ],
      "source": [
        "from google.colab import drive\n",
        "from IPython.display import display, HTML\n",
        "import os\n",
        "import re\n",
        "import fitz\n",
        "import openpyxl\n",
        "import shutil\n",
        "\n",
        "# === Setup ===\n",
        "drive.mount('/content/drive')\n",
        "root_dir = '/content/drive/MyDrive/huntPastebin/general'\n",
        "log_dir = '/content/drive/MyDrive/huntPastebin/logs'\n",
        "arch_dir = '/content/drive/MyDrive/huntPastebin/arch'\n",
        "valid_extensions = {'.txt', '.csv', '.log', '.py', '.json', '.html', '.xml', '.md', '.xlsx', '.pdf'}\n",
        "delete_terms = ['karen watson', 'murder']\n",
        "search_terms = ['kllackeo', '11-15','kllacko', 'klacko', 'lackeos','wrackr','wrack@','wrack:','notadude','sheis@icloud','worthit','fencepost5','pokemongo',', al']\n",
        "\n",
        "# === Log files ===\n",
        "ip_log = os.path.join(log_dir, 'ip_log.txt')\n",
        "email_log = os.path.join(log_dir, 'email_log.txt')\n",
        "user_log = os.path.join(log_dir, 'username_log.txt')\n",
        "pass_log = os.path.join(log_dir, 'password_log.txt')\n",
        "related_log = os.path.join(log_dir, 'related_log.txt')\n",
        "\n",
        "# === Patterns ===\n",
        "ip_regex = re.compile(r'\\b(?:\\d{1,3}\\.){3}\\d{1,3}\\b')\n",
        "#ip_regex = re.compile('''((25[0-5]|2[0-4][0-9]|[01]?[0-9][0-9]?)\\.){3}(25[0-5]|2[0-4][0-9][01]?[0-9][0-9]?)''')\n",
        "email_regex = re.compile(r'\\b\\S+@\\S+\\.\\S+\\b')\n",
        "combo_regex = re.compile(r'(?P<left>\\S+):(?P<right>\\S+)')\n",
        "user_keywords = ['user', 'username', 'login']\n",
        "pass_keywords = ['pass', 'password']\n",
        "\n",
        "# === Log function ===\n",
        "def append_log(filepath, logpath, value):\n",
        "    with open(logpath, 'a') as f:\n",
        "       f.write(f\"{value.strip()}\\n\")\n",
        "        #f.write(f\"{filepath} :: {value.strip()}\\n\")\n",
        "\n",
        "# === Display function ===\n",
        "def display_related(fields, filepath):\n",
        "    rel_path = filepath.split('/MyDrive/', 1)[-1]\n",
        "    drive_link = f\"https://drive.google.com/drive/u/0/search?q={os.path.basename(filepath)}\"\n",
        "    formatted = \"<br>\".join([f\"<b>{k}</b>: {v}\" for k, v in fields.items()])\n",
        "    display(HTML(f\"\"\"\n",
        "    <div style='margin-bottom:20px; font-size:14px;'>\n",
        "      <b>File:</b> <a href=\"{drive_link}\" target=\"_blank\">{rel_path}</a><br>\n",
        "      <div style='background:#f4f4f4;padding:10px;border-radius:4px;margin-top:5px;color:black;'>{formatted}</div>\n",
        "    </div>\n",
        "    \"\"\"))\n",
        "\n",
        "# === Field Extraction ===\n",
        "def extract_fields(text):\n",
        "    fields = {}\n",
        "    email_match = email_regex.search(text)\n",
        "    if email_match:\n",
        "        fields['email'] = email_match.group()\n",
        "    for key in user_keywords:\n",
        "        user = re.search(rf\"{key}\\s*[:=]?\\s*(\\S+)\", text, re.IGNORECASE)\n",
        "        if user:\n",
        "            fields['username'] = user.group(1)\n",
        "            break\n",
        "    for key in pass_keywords:\n",
        "        pw = re.search(rf\"{key}\\s*[:=]?\\s*(\\S+)\", text, re.IGNORECASE)\n",
        "        if pw:\n",
        "            fields['password'] = pw.group(1)\n",
        "            break\n",
        "    return fields\n",
        "\n",
        "def contains_search_term(text):\n",
        "    return any(term.lower() in text.lower() for term in search_terms)\n",
        "\n",
        "# === Line Scanner ===\n",
        "def scan_lines(lines, filepath):\n",
        "    path_note = filepath.replace('/content/drive/MyDrive/hunterPastebin', '')\n",
        "    for i, line in enumerate(lines):\n",
        "        window = lines[max(0, i - 2): min(len(lines), i + 3)]\n",
        "        full_text = '\\n'.join(window)\n",
        "\n",
        "        # Delete condition\n",
        "        if any(term in line.lower() for term in delete_terms):\n",
        "            os.remove(filepath)\n",
        "            display(HTML(f\"<p style='color:red;'>DELETED: {path_note}</p>\"))\n",
        "            return\n",
        "\n",
        "        #if any(term in line.lower() for term in search_terms):\n",
        "          #trm=term\n",
        "        #  display(f\"{term}<br>{line}\")\n",
        "\n",
        "        # IP logging only\n",
        "        for ip in ip_regex.findall(line):\n",
        "            print(ip)\n",
        "            append_log(path_note, ip_log, ip)\n",
        "\n",
        "        # Email logging\n",
        "        for email in email_regex.findall(line):\n",
        "            append_log(path_note, email_log, email)\n",
        "\n",
        "        # Combo (email/user:pass)\n",
        "        if ':' in line:\n",
        "            match = combo_regex.search(line)\n",
        "            if match:\n",
        "                left, right = match.group('left'), match.group('right')\n",
        "                if '@' in left:\n",
        "                    append_log(path_note, email_log, left)\n",
        "                    append_log(path_note, pass_log, right)\n",
        "                    append_log(path_note, related_log, f\"email={left}, password={right}\")\n",
        "                    if contains_search_term(full_text):\n",
        "                        display_related({'email': left, 'password': right}, filepath)\n",
        "                elif any(k in left.lower() for k in user_keywords):\n",
        "                    append_log(path_note, user_log, left)\n",
        "                    append_log(path_note, pass_log, right)\n",
        "                    append_log(path_note, related_log, f\"username={left}, password={right}\")\n",
        "                    if contains_search_term(full_text):\n",
        "                        display_related({'username': left, 'password': right}, filepath)\n",
        "\n",
        "        # Related grouping detection (same line/window)\n",
        "        fields = extract_fields(full_text)\n",
        "        if len(fields) >= 2:\n",
        "            append_log(path_note, related_log, ', '.join(f\"{k}={v}\" for k, v in fields.items()))\n",
        "            if contains_search_term(full_text):\n",
        "                display_related(fields, filepath)\n",
        "\n",
        "\n",
        "\n",
        "        filename = os.path.basename(filepath)\n",
        "\n",
        "        # Construct the full destination path\n",
        "        destination_path = os.path.join(arch_dir, filename)\n",
        "        #print(f\"scanned {filename}\")\n",
        "        # Move the file\n",
        "        #shutil.move(filepath, destination_path)\n",
        "        #os.move(filepath,os.path.join())\n",
        "\n",
        "# === File handlers ===\n",
        "def scan_text_file(filepath):\n",
        "    try:\n",
        "        with open(filepath, 'r', errors='ignore') as f:\n",
        "            scan_lines(f.readlines(), filepath)\n",
        "    except Exception as e:\n",
        "        print(f\"Error reading {filepath}: {e}\")\n",
        "\n",
        "def scan_xlsx(filepath):\n",
        "    try:\n",
        "        wb = openpyxl.load_workbook(filepath, read_only=True, data_only=True)\n",
        "        for sheet in wb.sheetnames:\n",
        "            for row in wb[sheet].iter_rows(values_only=True):\n",
        "                scan_lines([str(cell) for cell in row if cell], filepath)\n",
        "    except Exception as e:\n",
        "        print(f\"Error reading XLSX {filepath}: {e}\")\n",
        "\n",
        "def scan_pdf(filepath):\n",
        "    try:\n",
        "        doc = fitz.open(filepath)\n",
        "        for page in doc:\n",
        "            scan_lines(page.get_text().splitlines(), filepath)\n",
        "    except Exception as e:\n",
        "        print(f\"Error reading PDF {filepath}: {e}\")\n",
        "\n",
        "def scan_file(filepath):\n",
        "    ext = os.path.splitext(filepath)[1].lower()\n",
        "    if ext == '.xlsx':\n",
        "        scan_xlsx(filepath)\n",
        "        xx=1\n",
        "    elif ext == '.pdf':\n",
        "        scan_pdf(filepath)\n",
        "        xx=1\n",
        "    else:\n",
        "        scan_text_file(filepath)\n",
        "\n",
        "# === Walk directory ===\n",
        "for dirpath, _, files in os.walk(root_dir):\n",
        "    for file in files:\n",
        "        if os.path.splitext(file)[1].lower() in valid_extensions:\n",
        "            fullpath = os.path.join(dirpath, file)\n",
        "            filename = os.path.basename(fullpath)\n",
        "            print(f\"scanning {filename}\")\n",
        "            scan_file(fullpath)\n",
        "            destination_path = os.path.join(arch_dir,filename)\n",
        "            shutil.move(fullpath,destination_path)\n",
        "\n",
        "print(\"Scan complete. Logs appended to root folder.\")"
      ]
    },
    {
      "cell_type": "code",
      "execution_count": null,
      "metadata": {
        "colab": {
          "base_uri": "https://localhost:8080/"
        },
        "id": "jduChw288wL3",
        "outputId": "51a2d33c-5fa1-4511-e19d-c6ec26d482bf"
      },
      "outputs": [
        {
          "output_type": "stream",
          "name": "stdout",
          "text": [
            "Drive already mounted at /content/drive; to attempt to forcibly remount, call drive.mount(\"/content/drive\", force_remount=True).\n",
            "ip_log.txt not found.\n",
            "11-15 not found.\n",
            "email_log.txt not found.\n",
            "username_log.txt not found.\n",
            "password_log.txt not found.\n",
            "related_log.txt not found.\n",
            "Normalization & deduplication complete.\n"
          ]
        }
      ],
      "source": [
        "from google.colab import drive\n",
        "import os\n",
        "\n",
        "# Mount Google Drive\n",
        "drive.mount('/content/drive')\n",
        "\n",
        "# Logs directory\n",
        "logs_dir = '/content/drive/MyDrive/huntPastebin/logs'\n",
        "\n",
        "# Files to process\n",
        "log_files = ['ip_log.txt', '11-15','email_log.txt', 'username_log.txt', 'password_log.txt', 'related_log.txt']\n",
        "\n",
        "def normalize_entry(entry, log_type):\n",
        "    entry = entry.strip()\n",
        "    if log_type in ['email_log.txt', 'username_log.txt']:\n",
        "        entry = entry.lower()\n",
        "    return entry\n",
        "\n",
        "for logfile in log_files:\n",
        "    log_path = os.path.join(logs_dir, logfile)\n",
        "    if os.path.exists(log_path):\n",
        "        with open(log_path, 'r') as f:\n",
        "            entries = [normalize_entry(line, logfile) for line in f if line.strip()]\n",
        "        deduped_entries = sorted(set(entries))\n",
        "        with open(log_path, 'w') as f:\n",
        "            for entry in deduped_entries:\n",
        "                f.write(f\"{entry}\\n\")\n",
        "        print(f\"Deduplicated {logfile}: {len(deduped_entries)} unique entries.\")\n",
        "    else:\n",
        "        print(f\"{logfile} not found.\")\n",
        "\n",
        "print(\"Normalization & deduplication complete.\")"
      ]
    },
    {
      "cell_type": "code",
      "execution_count": null,
      "metadata": {
        "colab": {
          "base_uri": "https://localhost:8080/"
        },
        "id": "A99f8WNU1jiL",
        "outputId": "715f5774-3b6e-48dd-cef0-0452babdf1c2"
      },
      "outputs": [
        {
          "name": "stdout",
          "output_type": "stream",
          "text": [
            "Drive already mounted at /content/drive; to attempt to forcibly remount, call drive.mount(\"/content/drive\", force_remount=True).\n",
            "IP Block list exported to: /content/drive/MyDrive/huntPastebin/ip_blocks_full.csv\n"
          ]
        }
      ],
      "source": [
        "from google.colab import drive\n",
        "import pandas as pd\n",
        "\n",
        "# Mount Drive\n",
        "drive.mount('/content/drive')\n",
        "\n",
        "# IP Block Data\n",
        "data = [\n",
        "    # Florida Panhandle\n",
        "    (\"Pensacola\", \"FL\", \"AT&T\", \"12.0.0.0/8\"),\n",
        "    (\"Pensacola\", \"FL\", \"Cox Communications\", \"68.1.0.0/16\"),\n",
        "    (\"Fort Walton Beach\", \"FL\", \"Cox Communications\", \"68.1.0.0/16\"),\n",
        "    (\"Navarre\", \"FL\", \"Cox Communications\", \"68.1.0.0/16\"),\n",
        "    (\"Destin\", \"FL\", \"Cox Communications\", \"68.1.0.0/16\"),\n",
        "    (\"Panama City\", \"FL\", \"Cox Communications\", \"68.1.0.0/16\"),\n",
        "    (\"Panama City\", \"FL\", \"AT&T\", \"12.0.0.0/8\"),\n",
        "    (\"Panama City\", \"FL\", \"Mediacom\", \"173.16.0.0/12\"),\n",
        "    (\"All Cities\", \"FL\", \"Viasat\", \"67.142.0.0/16\"),\n",
        "    (\"All Cities\", \"FL\", \"HughesNet\", \"69.168.0.0/16\"),\n",
        "    (\"All Cities\", \"FL\", \"Starlink\", \"143.244.0.0/16\"),\n",
        "\n",
        "    # Southern Alabama\n",
        "    (\"Mobile\", \"AL\", \"AT&T\", \"12.0.0.0/8\"),\n",
        "    (\"Daphne\", \"AL\", \"AT&T\", \"12.0.0.0/8\"),\n",
        "    (\"Mobile\", \"AL\", \"C Spire\", \"66.175.0.0/16\"),\n",
        "    (\"Daphne\", \"AL\", \"C Spire\", \"66.175.0.0/16\"),\n",
        "    (\"All Cities\", \"AL\", \"CenturyLink\", \"63.0.0.0/8\"),\n",
        "    (\"All Cities\", \"AL\", \"Viasat\", \"67.142.0.0/16\"),\n",
        "    (\"All Cities\", \"AL\", \"HughesNet\", \"69.168.0.0/16\"),\n",
        "    (\"All Cities\", \"AL\", \"Starlink\", \"143.244.0.0/16\"),\n",
        "\n",
        "    # South Mississippi\n",
        "    (\"Gulfport\", \"MS\", \"C Spire\", \"66.175.0.0/16\"),\n",
        "    (\"Biloxi\", \"MS\", \"C Spire\", \"66.175.0.0/16\"),\n",
        "    (\"All Cities\", \"MS\", \"CenturyLink\", \"63.0.0.0/8\"),\n",
        "    (\"All Cities\", \"MS\", \"Viasat\", \"67.142.0.0/16\"),\n",
        "    (\"All Cities\", \"MS\", \"HughesNet\", \"69.168.0.0/16\"),\n",
        "    (\"All Cities\", \"MS\", \"Starlink\", \"143.244.0.0/16\"),\n",
        "\n",
        "    # Mobile Carriers (Regional/National)\n",
        "    (\"All Cities\", \"FL\", \"Verizon Wireless\", \"70.192.0.0/10\"),\n",
        "    (\"All Cities\", \"FL\", \"AT&T Mobility\", \"107.192.0.0/10\"),\n",
        "    (\"All Cities\", \"FL\", \"T-Mobile USA\", \"172.32.0.0/11\"),\n",
        "    (\"All Cities\", \"AL\", \"Verizon Wireless\", \"70.192.0.0/10\"),\n",
        "    (\"All Cities\", \"AL\", \"AT&T Mobility\", \"107.192.0.0/10\"),\n",
        "    (\"All Cities\", \"AL\", \"T-Mobile USA\", \"172.32.0.0/11\"),\n",
        "    (\"All Cities\", \"MS\", \"Verizon Wireless\", \"70.192.0.0/10\"),\n",
        "    (\"All Cities\", \"MS\", \"AT&T Mobility\", \"107.192.0.0/10\"),\n",
        "    (\"All Cities\", \"MS\", \"T-Mobile USA\", \"172.32.0.0/11\"),\n",
        "]\n",
        "\n",
        "# Save to CSV\n",
        "df = pd.DataFrame(data, columns=[\"City\", \"State\", \"ISP\", \"IP Block\"])\n",
        "output_path = '/content/drive/MyDrive/huntPastebin/ip_blocks_full.csv'\n",
        "df.to_csv(output_path, index=False)\n",
        "\n",
        "print(f\"IP Block list exported to: {output_path}\")"
      ]
    },
    {
      "cell_type": "code",
      "execution_count": null,
      "metadata": {
        "colab": {
          "base_uri": "https://localhost:8080/",
          "height": 1000
        },
        "id": "Llkmvmn12Qhl",
        "outputId": "5d5059aa-02dd-492e-bc38-bf5a8a1c01bf"
      },
      "outputs": [
        {
          "output_type": "stream",
          "name": "stdout",
          "text": [
            "Found 1295 IPs to analyze.\n",
            "Processed 0.0.0.0 -> , ,  -> Lookup Failed\n",
            "Processed 0.63.63.63 -> , ,  -> Lookup Failed\n",
            "Processed 100.33.167.99 -> New York, New York, United States -> Verizon Business\n",
            "Processed 101.168.213.79 -> Saint Leonards, New South Wales, Australia -> Telstra Limited\n",
            "Processed 103.10.65.121 -> Manado, North Sulawesi, Indonesia -> Pt. Indosat Tbk\n",
            "Processed 103.144.170.20 -> Sidoarjo, East Java, Indonesia -> PT INDONESIA COMNETS PLUS\n",
            "Processed 103.148.207.3 -> Bhiwandi, Maharashtra, India -> Intech Online Private Limited\n",
            "Processed 103.198.9.167 -> Kathmandu, Bagmati Pradesh, Nepal -> Cloud Himalaya Pvt. LTD\n",
            "Processed 104.136.249.205 -> Spring Hill, Florida, United States -> Charter Communications, INC\n",
            "Processed 104.137.66.132 -> DeFuniak Springs, Florida, United States -> Charter Communications, INC\n",
            "Processed 104.156.49.143 -> Tampa, Florida, United States -> Hivelocity, Inc.\n",
            "Processed 104.56.29.66 -> Pensacola, Florida, United States -> AT T Enterprises, LLC\n",
            "Processed 104.56.29.72 -> Pensacola, Florida, United States -> AT T Enterprises, LLC\n",
            "Processed 104.56.30.113 -> Pensacola, Florida, United States -> AT T Enterprises, LLC\n",
            "Processed 104.56.30.123 -> Pensacola, Florida, United States -> AT T Enterprises, LLC\n",
            "Processed 104.56.30.124 -> Pensacola, Florida, United States -> AT T Enterprises, LLC\n",
            "Processed 104.56.30.132 -> Pensacola, Florida, United States -> AT T Enterprises, LLC\n",
            "Processed 104.56.30.133 -> Pensacola, Florida, United States -> AT T Enterprises, LLC\n",
            "Processed 104.56.30.144 -> Pensacola, Florida, United States -> AT T Enterprises, LLC\n",
            "Processed 104.56.30.147 -> Pensacola, Florida, United States -> AT T Enterprises, LLC\n",
            "Processed 104.56.30.157 -> Pensacola, Florida, United States -> AT T Enterprises, LLC\n",
            "Processed 104.56.30.158 -> Pensacola, Florida, United States -> AT T Enterprises, LLC\n",
            "Processed 104.56.30.163 -> Pensacola, Florida, United States -> AT T Enterprises, LLC\n",
            "Processed 104.56.30.195 -> Pensacola, Florida, United States -> AT T Enterprises, LLC\n",
            "Processed 104.56.30.201 -> Pensacola, Florida, United States -> AT T Enterprises, LLC\n",
            "Processed 104.56.30.211 -> Pensacola, Florida, United States -> AT T Enterprises, LLC\n",
            "Processed 104.56.30.216 -> Pensacola, Florida, United States -> AT T Enterprises, LLC\n",
            "Processed 104.56.30.233 -> Pensacola, Florida, United States -> AT T Enterprises, LLC\n",
            "Processed 104.56.30.240 -> Pensacola, Florida, United States -> AT T Enterprises, LLC\n",
            "Processed 104.56.30.246 -> Pensacola, Florida, United States -> AT T Enterprises, LLC\n",
            "Processed 104.56.30.248 -> Pensacola, Florida, United States -> AT T Enterprises, LLC\n",
            "Processed 104.56.30.253 -> Pensacola, Florida, United States -> AT T Enterprises, LLC\n",
            "Processed 104.56.30.27 -> Pensacola, Florida, United States -> AT T Enterprises, LLC\n",
            "Processed 104.56.30.29 -> Pensacola, Florida, United States -> AT T Enterprises, LLC\n",
            "Processed 104.56.30.46 -> Pensacola, Florida, United States -> AT T Enterprises, LLC\n"
          ]
        },
        {
          "output_type": "error",
          "ename": "KeyboardInterrupt",
          "evalue": "",
          "traceback": [
            "\u001b[0;31m---------------------------------------------------------------------------\u001b[0m",
            "\u001b[0;31mKeyboardInterrupt\u001b[0m                         Traceback (most recent call last)",
            "\u001b[0;32m<ipython-input-7-887a031ce0af>\u001b[0m in \u001b[0;36m<cell line: 0>\u001b[0;34m()\u001b[0m\n\u001b[1;32m     41\u001b[0m        \u001b[0;31m#print(f\"Processed {ip} ->{data.get('city')} {data.get('region')} {data.get('country')} -> {enriched.get('ISP', '')}\")\u001b[0m\u001b[0;34m\u001b[0m\u001b[0;34m\u001b[0m\u001b[0m\n\u001b[1;32m     42\u001b[0m        \u001b[0mprint\u001b[0m\u001b[0;34m(\u001b[0m\u001b[0;34mf\"Processed {ip} -> {enriched.get('City', '')}, {enriched.get('Region', '')}, {enriched.get('Country', '')} -> {enriched.get('ISP', '')}\"\u001b[0m\u001b[0;34m)\u001b[0m\u001b[0;34m\u001b[0m\u001b[0;34m\u001b[0m\u001b[0m\n\u001b[0;32m---> 43\u001b[0;31m        \u001b[0mtime\u001b[0m\u001b[0;34m.\u001b[0m\u001b[0msleep\u001b[0m\u001b[0;34m(\u001b[0m\u001b[0;36m1\u001b[0m\u001b[0;34m)\u001b[0m\u001b[0;34m\u001b[0m\u001b[0;34m\u001b[0m\u001b[0m\n\u001b[0m\u001b[1;32m     44\u001b[0m \u001b[0;34m\u001b[0m\u001b[0m\n\u001b[1;32m     45\u001b[0m \u001b[0;31m# Save enriched results\u001b[0m\u001b[0;34m\u001b[0m\u001b[0;34m\u001b[0m\u001b[0m\n",
            "\u001b[0;31mKeyboardInterrupt\u001b[0m: "
          ]
        }
      ],
      "source": [
        "import requests\n",
        "import time\n",
        "import pandas as pd\n",
        "\n",
        "# Load IPs from log file\n",
        "ip_log_path = '/content/drive/MyDrive/huntPastebin/logs/ip_log.txt'\n",
        "with open(ip_log_path, 'r') as f:\n",
        "    ip_list = [line.strip() for line in f if line.strip()]\n",
        "\n",
        "print(f\"Found {len(ip_list)} IPs to analyze.\")\n",
        "\n",
        "# Lookup function\n",
        "def enrich_ip(ip):\n",
        "    url = f\"https://ipwho.is/{ip}\"\n",
        "    try:\n",
        "        resp = requests.get(url, timeout=10)\n",
        "        data = resp.json()\n",
        "        if data.get('success'):\n",
        "            return {\n",
        "                'IP': ip,\n",
        "                'ISP': data.get('connection', {}).get('isp', ''),\n",
        "                'ASN Type': data.get('connection', {}).get('type', ''),\n",
        "                'Country': data.get('country', ''),\n",
        "                'Region': data.get('region', ''),\n",
        "                'City': data.get('city', ''),\n",
        "                'Latitude': data.get('latitude', ''),\n",
        "                'Longitude': data.get('longitude', '')\n",
        "            }\n",
        "        else:\n",
        "            return {'IP': ip, 'ISP': 'Lookup Failed'}\n",
        "    except Exception as e:\n",
        "        return {'IP': ip, 'ISP': f'Error: {e}'}\n",
        "\n",
        "# Process with politeness delay\n",
        "results = []\n",
        "for ip in ip_list:\n",
        "    enriched = enrich_ip(ip)\n",
        "    if 1==1 or \"Alabama\" in enriched.get(\"Region\",\"\") or \"Florida\" in enriched.get(\"Region\",\"\"):\n",
        "\n",
        "       results.append(enriched)\n",
        "       #print(f\"Processed {ip} ->{data.get('city')} {data.get('region')} {data.get('country')} -> {enriched.get('ISP', '')}\")\n",
        "       print(f\"Processed {ip} -> {enriched.get('City', '')}, {enriched.get('Region', '')}, {enriched.get('Country', '')} -> {enriched.get('ISP', '')}\")\n",
        "       time.sleep(1)\n",
        "\n",
        "# Save enriched results\n",
        "df_enriched = pd.DataFrame(results)\n",
        "output_enrich = '/content/drive/MyDrive/huntPastebin/ip_enrichmental.csv'\n",
        "df_enriched.to_csv(output_enrich, index=False)\n",
        "print(f\"IP enrichment saved to: {output_enrich}\")"
      ]
    },
    {
      "cell_type": "code",
      "execution_count": null,
      "metadata": {
        "colab": {
          "base_uri": "https://localhost:8080/"
        },
        "id": "_N2glOJj3jal",
        "outputId": "b6528933-d3cc-4f88-c4ff-e86c87768176"
      },
      "outputs": [
        {
          "name": "stdout",
          "output_type": "stream",
          "text": [
            "Drive already mounted at /content/drive; to attempt to forcibly remount, call drive.mount(\"/content/drive\", force_remount=True).\n",
            "Filtered IP list saved to: /content/drive/MyDrive/huntPastebin/filtered_ip_log.txt\n",
            "156 IPs matched your area of interest.\n"
          ]
        }
      ],
      "source": [
        "import ipaddress\n",
        "import pandas as pd\n",
        "from google.colab import drive\n",
        "\n",
        "# Mount Drive\n",
        "drive.mount('/content/drive')\n",
        "\n",
        "# Load IP log\n",
        "ip_log_path = '/content/drive/MyDrive/huntPastebin/logs/ip_log.txt'\n",
        "with open(ip_log_path, 'r') as f:\n",
        "    ip_list = [line.strip() for line in f if line.strip()]\n",
        "\n",
        "# Load IP block list\n",
        "ip_blocks_path = '/content/drive/MyDrive/huntPastebin/ip_blocks_full.csv'\n",
        "df_blocks = pd.read_csv(ip_blocks_path)\n",
        "\n",
        "# Convert IP blocks to ipaddress objects\n",
        "block_networks = [ipaddress.ip_network(block) for block in df_blocks['IP Block']]\n",
        "\n",
        "# Filter IPs that fall within any of the regional blocks\n",
        "filtered_ips = []\n",
        "for ip in ip_list:\n",
        "    try:\n",
        "        ip_obj = ipaddress.ip_address(ip)\n",
        "        if any(ip_obj in net for net in block_networks):\n",
        "            filtered_ips.append(ip)\n",
        "    except ValueError:\n",
        "        continue  # Skip invalid IPs\n",
        "\n",
        "# Save filtered list\n",
        "filtered_ip_path = '/content/drive/MyDrive/huntPastebin/filtered_ip_log.txt'\n",
        "with open(filtered_ip_path, 'a') as f:\n",
        "    for ip in sorted(set(filtered_ips)):\n",
        "        f.write(f\"{ip}\\n\")\n",
        "\n",
        "print(f\"Filtered IP list saved to: {filtered_ip_path}\")\n",
        "print(f\"{len(filtered_ips)} IPs matched your area of interest.\")"
      ]
    }
  ],
  "metadata": {
    "colab": {
      "provenance": [],
      "mount_file_id": "1uA1YA4QxzbuxLPidDFbntZHGPj2En9VB",
      "authorship_tag": "ABX9TyODdgApKHPZJ9r/DrTEnSi/",
      "include_colab_link": true
    },
    "kernelspec": {
      "display_name": "Python 3",
      "name": "python3"
    },
    "language_info": {
      "name": "python"
    }
  },
  "nbformat": 4,
  "nbformat_minor": 0
}